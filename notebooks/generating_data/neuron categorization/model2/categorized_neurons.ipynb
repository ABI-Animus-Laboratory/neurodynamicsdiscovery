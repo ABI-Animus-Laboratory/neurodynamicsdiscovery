{
 "cells": [
  {
   "cell_type": "code",
   "execution_count": 1,
   "metadata": {},
   "outputs": [],
   "source": [
    "import pickle\n",
    "import pandas as pd\n",
    "import numpy as np\n",
    "import matplotlib.pyplot as plt\n",
    "\n",
    "from scripts import neuron_categorization"
   ]
  },
  {
   "cell_type": "code",
   "execution_count": 2,
   "metadata": {},
   "outputs": [],
   "source": [
    "spike_trains = np.load('/hpc/mzhu843/modelling/nest/DATA/processed/spikes/S_3_p.npy')\n",
    "calcium_traces = np.load('/hpc/mzhu843/modelling/nest/DATA/raw/calcium traces/C_3.npy')\n",
    "ez_track_data = pd.read_csv('/hpc/mzhu843/modelling/nest/DATA/raw/ezytrack/behaviour_LocationOutput.csv')\n",
    "\n",
    "categorizer = neuron_categorization.NeuronCategorizer(spike_trains, calcium_traces, ez_track_data)\n",
    "categorizer.run_categorization()\n",
    "\n",
    "categorized_neurons = categorizer.get_categorized_neurons()\n",
    "\n",
    "selected_ids = ['30', '31', '62', '74', '77']\n",
    "\n",
    "place_obs = []\n",
    "\n",
    "for id in selected_ids:\n",
    "    place_obs.append(categorizer.place_obs[list(categorized_neurons['Place'].keys()).index(id)][:2999])\n",
    "\n",
    "small_categorized_neurons = {'Place': {}}\n",
    "for id in selected_ids:\n",
    "    small_categorized_neurons['Place'][id] = categorized_neurons['Place'][id]\n",
    "\n",
    "with open('/hpc/mzhu843/modelling/nest/DATA/processed/model2/categorized_neurons.pkl', 'wb') as file:\n",
    "    pickle.dump(small_categorized_neurons, file)\n",
    "\n",
    "with open('/hpc/mzhu843/modelling/nest/DATA/processed/model2/place_obs.pkl', 'wb') as file:\n",
    "    pickle.dump(place_obs, file)\n",
    "\n"
   ]
  }
 ],
 "metadata": {
  "kernelspec": {
   "display_name": "nest",
   "language": "python",
   "name": "python3"
  },
  "language_info": {
   "codemirror_mode": {
    "name": "ipython",
    "version": 3
   },
   "file_extension": ".py",
   "mimetype": "text/x-python",
   "name": "python",
   "nbconvert_exporter": "python",
   "pygments_lexer": "ipython3",
   "version": "3.11.6"
  }
 },
 "nbformat": 4,
 "nbformat_minor": 2
}
