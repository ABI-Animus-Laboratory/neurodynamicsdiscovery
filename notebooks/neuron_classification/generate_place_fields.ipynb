{
 "cells": [
  {
   "cell_type": "code",
   "execution_count": 1,
   "metadata": {},
   "outputs": [],
   "source": [
    "import matplotlib.pyplot as plt\n",
    "import pandas as pd\n",
    "import numpy as np\n",
    "import pickle \n",
    "from matplotlib.patches import Rectangle\n",
    "\n",
    "from scripts import neuron_classification, visualizations"
   ]
  },
  {
   "cell_type": "code",
   "execution_count": 2,
   "metadata": {},
   "outputs": [],
   "source": [
    "box_radius = 71\n",
    "field_width = 264\n",
    "x_min, y_min = 73, 77"
   ]
  },
  {
   "cell_type": "code",
   "execution_count": 3,
   "metadata": {},
   "outputs": [],
   "source": [
    "with open('/hpc/mzhu843/modelling/nest/results/filtered_neurons/neuron_groups.pickle', 'rb') as file:\n",
    "    neuron_groups = pickle.load(file)\n",
    "\n",
    "for group in neuron_groups.keys():\n",
    "    for neuron in neuron_groups[group]:\n",
    "        label = neuron[0]\n",
    "        coords = neuron[1]\n",
    "        centroid = neuron_classification.get_centroid(coords)\n",
    "        box_top = (centroid[0] - x_min - box_radius) // 2\n",
    "        box_left = (centroid[1] - y_min - box_radius) // 2\n",
    "        heat_map = np.zeros((field_width // 2, field_width // 2))\n",
    "        for coord in coords:\n",
    "            x, y = round((coord[0] - x_min) // 2), round((coord[1] - y_min ) // 2)\n",
    "            heat_map[x][y] += 1\n",
    "        fig, ax = plt.subplots()\n",
    "        cax = ax.imshow(heat_map, 'hot', vmin=0, vmax=5)\n",
    "        box = Rectangle((box_left, box_top), box_radius, box_radius, linewidth=0.5, edgecolor='yellow', facecolor='none')\n",
    "        ax.add_patch(box)\n",
    "        ax.set_title('Spike coordinates for Neuron ' + str(label))\n",
    "        plt.colorbar(cax)\n",
    "        if group == 'Place':\n",
    "            plt.savefig(f'/hpc/mzhu843/modelling/nest/results/place fields/place/Neuron {label}.png')\n",
    "        if group == 'Interneuron':\n",
    "            plt.savefig(f'/hpc/mzhu843/modelling/nest/results/place fields/inter/Neuron {label}.png')\n",
    "        if group == \"Silent\":\n",
    "            plt.savefig(f'/hpc/mzhu843/modelling/nest/results/place fields/silent/Neuron {label}.png')\n",
    "        plt.close(fig)\n",
    "            \n",
    "\n"
   ]
  }
 ],
 "metadata": {
  "kernelspec": {
   "display_name": "nest",
   "language": "python",
   "name": "python3"
  },
  "language_info": {
   "codemirror_mode": {
    "name": "ipython",
    "version": 3
   },
   "file_extension": ".py",
   "mimetype": "text/x-python",
   "name": "python",
   "nbconvert_exporter": "python",
   "pygments_lexer": "ipython3",
   "version": "3.11.6"
  }
 },
 "nbformat": 4,
 "nbformat_minor": 2
}
