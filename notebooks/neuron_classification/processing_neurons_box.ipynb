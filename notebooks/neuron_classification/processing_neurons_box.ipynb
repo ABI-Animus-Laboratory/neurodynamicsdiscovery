{
 "cells": [
  {
   "cell_type": "code",
   "execution_count": 1,
   "metadata": {},
   "outputs": [
    {
     "name": "stdout",
     "output_type": "stream",
     "text": [
      "\n",
      "              -- N E S T --\n",
      "  Copyright (C) 2004 The NEST Initiative\n",
      "\n",
      " Version: 3.6.0\n",
      " Built: Sep 28 2023 11:53:34\n",
      "\n",
      " This program is provided AS IS and comes with\n",
      " NO WARRANTY. See the file LICENSE for details.\n",
      "\n",
      " Problems or suggestions?\n",
      "   Visit https://www.nest-simulator.org\n",
      "\n",
      " Type 'nest.help()' to find out more about NEST.\n",
      "\n"
     ]
    }
   ],
   "source": [
    "import numpy as np\n",
    "import pandas as pd\n",
    "import pickle\n",
    "\n",
    "from scripts import neuron_classification"
   ]
  },
  {
   "cell_type": "code",
   "execution_count": 2,
   "metadata": {},
   "outputs": [],
   "source": [
    "df = pd.read_csv('/hpc/mzhu843/modelling/nest/DATA/raw/ezytrack/behaviour_LocationOutput.csv')\n",
    "spikes = np.load(\"/hpc/mzhu843/modelling/nest/DATA/processed/spikes/experiment3_unfiltered_processed.npy\")"
   ]
  },
  {
   "cell_type": "code",
   "execution_count": 3,
   "metadata": {},
   "outputs": [],
   "source": [
    "X_coords, Y_coords = df['X'].values, df['Y'].values\n",
    "num_frames = np.size(spikes, axis=1)\n",
    "X_coords, Y_coords = neuron_classification.match_frames(spikes, X_coords, Y_coords, num_frames)"
   ]
  },
  {
   "cell_type": "code",
   "execution_count": 4,
   "metadata": {},
   "outputs": [],
   "source": [
    "spikes_coords = neuron_classification.get_spike_coords(spikes, X_coords, Y_coords)"
   ]
  },
  {
   "cell_type": "code",
   "execution_count": 5,
   "metadata": {},
   "outputs": [
    {
     "name": "stdout",
     "output_type": "stream",
     "text": [
      "Interneuron: 48\n",
      "Silent: 53\n",
      "Place: 105\n"
     ]
    }
   ],
   "source": [
    "x_min, x_max = df['X'].min(), df['X'].max()\n",
    "y_min, y_max = df['Y'].min(), df['Y'].max()\n",
    "neuron_types = neuron_classification.categorize_neurons_box(spikes_coords, x_min, x_max)\n",
    "\n",
    "with open('/hpc/mzhu843/modelling/nest/results/filtered_neurons/neuron_groups.pickle', 'wb') as file:\n",
    "    pickle.dump(neuron_types, file)\n",
    "\n",
    "for neuron_type in neuron_types.keys():\n",
    "    print(f'{neuron_type}: {len(neuron_types[neuron_type])}')\n"
   ]
  }
 ],
 "metadata": {
  "kernelspec": {
   "display_name": "nest",
   "language": "python",
   "name": "python3"
  },
  "language_info": {
   "codemirror_mode": {
    "name": "ipython",
    "version": 3
   },
   "file_extension": ".py",
   "mimetype": "text/x-python",
   "name": "python",
   "nbconvert_exporter": "python",
   "pygments_lexer": "ipython3",
   "version": "3.11.6"
  }
 },
 "nbformat": 4,
 "nbformat_minor": 2
}
