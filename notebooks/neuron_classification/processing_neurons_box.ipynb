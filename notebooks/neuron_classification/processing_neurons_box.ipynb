{
 "cells": [
  {
   "cell_type": "code",
   "execution_count": 1,
   "metadata": {},
   "outputs": [
    {
     "name": "stdout",
     "output_type": "stream",
     "text": [
      "\n",
      "              -- N E S T --\n",
      "  Copyright (C) 2004 The NEST Initiative\n",
      "\n",
      " Version: 3.6.0\n",
      " Built: Sep 28 2023 11:53:34\n",
      "\n",
      " This program is provided AS IS and comes with\n",
      " NO WARRANTY. See the file LICENSE for details.\n",
      "\n",
      " Problems or suggestions?\n",
      "   Visit https://www.nest-simulator.org\n",
      "\n",
      " Type 'nest.help()' to find out more about NEST.\n",
      "\n"
     ]
    }
   ],
   "source": [
    "import numpy as np\n",
    "import pandas as pd\n",
    "import matplotlib.pyplot as plt\n",
    "import nest\n",
    "import csv\n",
    "\n",
    "from scripts import visualizations, initializations, optimization, experiments, preprocessing, neuron_classification"
   ]
  },
  {
   "cell_type": "code",
   "execution_count": 2,
   "metadata": {},
   "outputs": [],
   "source": [
    "df = pd.read_csv('/hpc/mzhu843/modelling/nest/DATA/raw/ezytrack/behaviour_LocationOutput.csv')\n",
    "spikes = np.load(\"/hpc/mzhu843/modelling/nest/DATA/processed/spikes/experiment3_unfiltered_processed.npy\")"
   ]
  },
  {
   "cell_type": "code",
   "execution_count": 3,
   "metadata": {},
   "outputs": [],
   "source": [
    "spikes_coords = neuron_classification.get_spike_coords(spikes, df)"
   ]
  },
  {
   "cell_type": "code",
   "execution_count": 7,
   "metadata": {},
   "outputs": [
    {
     "name": "stdout",
     "output_type": "stream",
     "text": [
      "Interneuron: 32\n",
      "Silent: 65\n",
      "Place: 97\n",
      "[[11, (307.70377470188595, 175.85459363459532)], [12, (86.6982816575685, 304.398338128916)], [24, (86.55413690158865, 305.21326900522445)], [29, (165.7766048166554, 92.39027259093716)], [36, (293.03668278607495, 264.9613935718293)], [47, (317.80444444444447, 305.9444575936884)], [54, (120.10841276419394, 125.79229175300456)], [56, (305.5057942541499, 221.0643774380001)], [57, (97.18804231546416, 123.33718649708784)], [66, (132.31242441344835, 303.3469321938241)], [69, (291.94671118712165, 267.56340092841435)], [77, (172.0117845599382, 191.41320328365893)], [80, (118.93234962767563, 120.09559530678976)], [83, (307.573956981528, 174.863958914322)], [92, (180.2358554873892, 88.39508066348557)], [97, (93.81638908165624, 127.69717210270646)], [99, (132.2111129595741, 163.59155437253924)], [102, (184.3829181080845, 91.50879386028664)], [114, (290.30764381834626, 266.818675144572)], [116, (326.18747579992254, 90.05628498011194)], [127, (304.92811706571297, 172.81943268994513)], [128, (304.268502909348, 172.01933220947305)], [129, (121.15359777313849, 137.56019485038274)], [133, (292.5686803455135, 265.083898743835)], [134, (118.93857534246575, 120.11701369863012)], [137, (303.3678400219148, 171.15951239556225)], [152, (90.50163906142168, 133.68110190936278)], [158, (120.28068493150684, 124.23594520547944)], [159, (198.17722201720272, 91.5606495018026)], [178, (298.9682823129252, 241.33574263038548)], [181, (196.98967860317097, 90.0531265231228)], [192, (120.18045718412354, 117.89289781407103)]]\n"
     ]
    }
   ],
   "source": [
    "x_min, x_max, y_min, y_max = df['X'].min(), df['X'].max(), df['Y'].min(), df['Y'].max()\n",
    "neuron_type_counts = neuron_classification.categorize_neurons_box(spikes_coords, x_min, x_max, y_min, y_max)\n",
    "\n",
    "for neuron_type in neuron_type_counts.keys():\n",
    "    print(f'{neuron_type}: {len(neuron_type_counts[neuron_type])}')\n",
    "\n",
    "interneuron, silent, place = neuron_type_counts['Interneuron'], neuron_type_counts['Silent'], neuron_type_counts['Place']\n"
   ]
  },
  {
   "cell_type": "code",
   "execution_count": 5,
   "metadata": {},
   "outputs": [],
   "source": [
    "#To delete eventually and put into separate script\n",
    "open_height = round(y_max) - round(y_min)\n",
    "open_width = round(x_max) - round(x_min)\n",
    "for i in range(len(location_specific)):\n",
    "    heat_map = np.zeros((open_height, open_width))\n",
    "    for j in range(1, len(location_specific[i][1])):\n",
    "        x = round(location_specific[i][1][j][0] - x_min)\n",
    "        y = round(location_specific[i][1][j][1] - y_min)\n",
    "        heat_map[x][y] += 1\n",
    "        fig, ax = plt.subplots()\n",
    "        heatmap = ax.imshow(heat_map, cmap='cividis')\n",
    "        fig.colorbar(heatmap)\n",
    "        plt.savefig(f'/hpc/mzhu843/modelling/nest/results/place fields/place cells/Neuron {location_specific[i][0]}')\n",
    "        plt.close()"
   ]
  },
  {
   "cell_type": "code",
   "execution_count": 6,
   "metadata": {},
   "outputs": [],
   "source": [
    "with open('/hpc/mzhu843/modelling/nest/results/filtered_neurons/filtered_place_cells.csv', 'w', newline='') as file:\n",
    "    writer = csv.writer(file)\n",
    "    writer.writerows(location_specific)\n",
    "\n",
    "with open('/hpc/mzhu843/modelling/nest/results/filtered_neurons/filtered_interneurons.csv', 'w', newline='') as file:\n",
    "    writer = csv.writer(file)\n",
    "    writer.writerows(non_specific)\n",
    "\n",
    "\n"
   ]
  },
  {
   "cell_type": "code",
   "execution_count": null,
   "metadata": {},
   "outputs": [],
   "source": []
  }
 ],
 "metadata": {
  "kernelspec": {
   "display_name": "nest",
   "language": "python",
   "name": "python3"
  },
  "language_info": {
   "codemirror_mode": {
    "name": "ipython",
    "version": 3
   },
   "file_extension": ".py",
   "mimetype": "text/x-python",
   "name": "python",
   "nbconvert_exporter": "python",
   "pygments_lexer": "ipython3",
   "version": "3.11.6"
  }
 },
 "nbformat": 4,
 "nbformat_minor": 2
}
