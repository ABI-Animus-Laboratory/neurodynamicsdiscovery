{
 "cells": [
  {
   "cell_type": "code",
   "execution_count": 1,
   "metadata": {},
   "outputs": [
    {
     "name": "stdout",
     "output_type": "stream",
     "text": [
      "\n",
      "              -- N E S T --\n",
      "  Copyright (C) 2004 The NEST Initiative\n",
      "\n",
      " Version: 3.6.0\n",
      " Built: Sep 28 2023 11:53:34\n",
      "\n",
      " This program is provided AS IS and comes with\n",
      " NO WARRANTY. See the file LICENSE for details.\n",
      "\n",
      " Problems or suggestions?\n",
      "   Visit https://www.nest-simulator.org\n",
      "\n",
      " Type 'nest.help()' to find out more about NEST.\n",
      "\n"
     ]
    }
   ],
   "source": [
    "import numpy as np\n",
    "import pandas as pd\n",
    "import matplotlib.pyplot as plt\n",
    "import nest\n",
    "import csv\n",
    "\n",
    "from scripts import visualizations, initializations, optimization, experiments, preprocessing, neuron_classification"
   ]
  },
  {
   "cell_type": "code",
   "execution_count": 2,
   "metadata": {},
   "outputs": [],
   "source": [
    "df = pd.read_csv('/hpc/mzhu843/modelling/nest/DATA/raw/ezytrack/behaviour_LocationOutput.csv')\n",
    "spikes = np.load(\"/hpc/mzhu843/modelling/nest/DATA/processed/spikes/experiment3_unfiltered_processed.npy\")"
   ]
  },
  {
   "cell_type": "code",
   "execution_count": 3,
   "metadata": {},
   "outputs": [],
   "source": [
    "spikes = neuron_classification.remove_weak_neurons(spikes)"
   ]
  },
  {
   "cell_type": "code",
   "execution_count": 4,
   "metadata": {},
   "outputs": [],
   "source": [
    "spikes_coords = neuron_classification.get_spike_coords(spikes, df)"
   ]
  },
  {
   "cell_type": "code",
   "execution_count": 5,
   "metadata": {},
   "outputs": [
    {
     "name": "stdout",
     "output_type": "stream",
     "text": [
      "Interneuron: 32\n",
      "Silent: 65\n",
      "Place: 95\n"
     ]
    }
   ],
   "source": [
    "x_min, x_max, y_min, y_max = df['X'].min(), df['X'].max(), df['Y'].min(), df['Y'].max()\n",
    "neuron_types = neuron_classification.categorize_neurons_box(spikes_coords, x_min, x_max, y_min, y_max)\n",
    "\n",
    "for neuron_type in neuron_types.keys():\n",
    "    print(f'{neuron_type}: {len(neuron_types[neuron_type])}')\n",
    "\n",
    "interneuron, silent, place = neuron_types['Interneuron'], neuron_types['Silent'], neuron_types['Place']\n"
   ]
  },
  {
   "cell_type": "code",
   "execution_count": 6,
   "metadata": {},
   "outputs": [],
   "source": [
    "# #To delete eventually and put into separate script\n",
    "# open_height = round(y_max) - round(y_min)\n",
    "# open_width = round(x_max) - round(x_min)\n",
    "# for i in range(len(location_specific)):\n",
    "#     heat_map = np.zeros((open_height, open_width))\n",
    "#     for j in range(1, len(location_specific[i][1])):\n",
    "#         x = round(location_specific[i][1][j][0] - x_min)\n",
    "#         y = round(location_specific[i][1][j][1] - y_min)\n",
    "#         heat_map[x][y] += 1\n",
    "#         fig, ax = plt.subplots()\n",
    "#         heatmap = ax.imshow(heat_map, cmap='cividis')\n",
    "#         fig.colorbar(heatmap)\n",
    "#         plt.savefig(f'/hpc/mzhu843/modelling/nest/results/place fields/place cells/Neuron {location_specific[i][0]}')\n",
    "#         plt.close()"
   ]
  },
  {
   "cell_type": "code",
   "execution_count": 7,
   "metadata": {},
   "outputs": [],
   "source": [
    "# with open('/hpc/mzhu843/modelling/nest/results/filtered_neurons/filtered_place_cells.csv', 'w', newline='') as file:\n",
    "#     writer = csv.writer(file)\n",
    "#     writer.writerows(location_specific)\n",
    "\n",
    "# with open('/hpc/mzhu843/modelling/nest/results/filtered_neurons/filtered_interneurons.csv', 'w', newline='') as file:\n",
    "#     writer = csv.writer(file)\n",
    "#     writer.writerows(non_specific)\n",
    "\n",
    "\n"
   ]
  },
  {
   "cell_type": "code",
   "execution_count": null,
   "metadata": {},
   "outputs": [],
   "source": []
  }
 ],
 "metadata": {
  "kernelspec": {
   "display_name": "nest",
   "language": "python",
   "name": "python3"
  },
  "language_info": {
   "codemirror_mode": {
    "name": "ipython",
    "version": 3
   },
   "file_extension": ".py",
   "mimetype": "text/x-python",
   "name": "python",
   "nbconvert_exporter": "python",
   "pygments_lexer": "ipython3",
   "version": "3.11.6"
  }
 },
 "nbformat": 4,
 "nbformat_minor": 2
}
