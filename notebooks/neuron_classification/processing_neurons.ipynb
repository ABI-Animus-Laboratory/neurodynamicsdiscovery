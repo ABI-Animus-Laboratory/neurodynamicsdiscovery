{
 "cells": [
  {
   "cell_type": "code",
   "execution_count": 1,
   "metadata": {},
   "outputs": [
    {
     "name": "stdout",
     "output_type": "stream",
     "text": [
      "\n",
      "              -- N E S T --\n",
      "  Copyright (C) 2004 The NEST Initiative\n",
      "\n",
      " Version: 3.6.0\n",
      " Built: Sep 28 2023 11:53:34\n",
      "\n",
      " This program is provided AS IS and comes with\n",
      " NO WARRANTY. See the file LICENSE for details.\n",
      "\n",
      " Problems or suggestions?\n",
      "   Visit https://www.nest-simulator.org\n",
      "\n",
      " Type 'nest.help()' to find out more about NEST.\n",
      "\n"
     ]
    }
   ],
   "source": [
    "import numpy as np\n",
    "import pandas as pd\n",
    "import matplotlib.pyplot as plt\n",
    "import nest\n",
    "import csv\n",
    "\n",
    "from scripts import visualizations, initializations, optimization, experiments, preprocessing, neuron_classification"
   ]
  },
  {
   "cell_type": "code",
   "execution_count": 2,
   "metadata": {},
   "outputs": [],
   "source": [
    "df = pd.read_csv('/hpc/mzhu843/modelling/nest/DATA/raw/ezytrack/behaviour_LocationOutput.csv')\n",
    "spikes = np.load(\"/hpc/mzhu843/modelling/nest/DATA/processed/spikes/experiment3_unfiltered_processed.npy\")"
   ]
  },
  {
   "cell_type": "code",
   "execution_count": 3,
   "metadata": {},
   "outputs": [],
   "source": [
    "spikes = neuron_classification.remove_weak_neurons(spikes)"
   ]
  },
  {
   "cell_type": "code",
   "execution_count": 4,
   "metadata": {},
   "outputs": [],
   "source": [
    "spikes_coords = neuron_classification.get_spike_coords(spikes, df)"
   ]
  },
  {
   "cell_type": "code",
   "execution_count": 5,
   "metadata": {},
   "outputs": [
    {
     "name": "stdout",
     "output_type": "stream",
     "text": [
      "73\n",
      "119\n"
     ]
    }
   ],
   "source": [
    "x_min, x_max, y_min, y_max = df['X'].min(), df['X'].max(), df['Y'].min(), df['Y'].max()\n",
    "location_specific, non_specific = neuron_classification.categorize_neurons_box(spikes_coords, x_min, x_max, y_min, y_max)\n",
    "print(len(location_specific))\n",
    "print(len(non_specific))"
   ]
  },
  {
   "cell_type": "code",
   "execution_count": 6,
   "metadata": {},
   "outputs": [
    {
     "ename": "IndexError",
     "evalue": "index 262 is out of bounds for axis 0 with size 260",
     "output_type": "error",
     "traceback": [
      "\u001b[0;31m---------------------------------------------------------------------------\u001b[0m",
      "\u001b[0;31mIndexError\u001b[0m                                Traceback (most recent call last)",
      "Cell \u001b[0;32mIn[6], line 9\u001b[0m\n\u001b[1;32m      7\u001b[0m x \u001b[38;5;241m=\u001b[39m \u001b[38;5;28mround\u001b[39m(location_specific[i][\u001b[38;5;241m1\u001b[39m][j][\u001b[38;5;241m0\u001b[39m] \u001b[38;5;241m-\u001b[39m x_min)\n\u001b[1;32m      8\u001b[0m y \u001b[38;5;241m=\u001b[39m \u001b[38;5;28mround\u001b[39m(location_specific[i][\u001b[38;5;241m1\u001b[39m][j][\u001b[38;5;241m1\u001b[39m] \u001b[38;5;241m-\u001b[39m y_min)\n\u001b[0;32m----> 9\u001b[0m \u001b[43mheat_map\u001b[49m\u001b[43m[\u001b[49m\u001b[43mx\u001b[49m\u001b[43m]\u001b[49m\u001b[43m[\u001b[49m\u001b[43my\u001b[49m\u001b[43m]\u001b[49m \u001b[38;5;241m+\u001b[39m\u001b[38;5;241m=\u001b[39m \u001b[38;5;241m1\u001b[39m\n\u001b[1;32m     10\u001b[0m fig, ax \u001b[38;5;241m=\u001b[39m plt\u001b[38;5;241m.\u001b[39msubplots()\n\u001b[1;32m     11\u001b[0m heatmap \u001b[38;5;241m=\u001b[39m ax\u001b[38;5;241m.\u001b[39mimshow(heat_map, cmap\u001b[38;5;241m=\u001b[39m\u001b[38;5;124m'\u001b[39m\u001b[38;5;124mcividis\u001b[39m\u001b[38;5;124m'\u001b[39m)\n",
      "\u001b[0;31mIndexError\u001b[0m: index 262 is out of bounds for axis 0 with size 260"
     ]
    }
   ],
   "source": [
    "#To delete eventually and put into separate script\n",
    "open_height = round(y_max) - round(y_min)\n",
    "open_width = round(x_max) - round(x_min)\n",
    "for i in range(len(location_specific)):\n",
    "    heat_map = np.zeros((open_height, open_width))\n",
    "    for j in range(1, len(location_specific[i][1])):\n",
    "        x = round(location_specific[i][1][j][0] - x_min)\n",
    "        y = round(location_specific[i][1][j][1] - y_min)\n",
    "        heat_map[x][y] += 1\n",
    "        fig, ax = plt.subplots()\n",
    "        heatmap = ax.imshow(heat_map, cmap='cividis')\n",
    "        fig.colorbar(heatmap)\n",
    "        plt.savefig(f'/hpc/mzhu843/modelling/nest/results/place fields/place cells/Neuron {location_specific[i][0]}')\n",
    "        plt.close()"
   ]
  },
  {
   "cell_type": "code",
   "execution_count": null,
   "metadata": {},
   "outputs": [],
   "source": [
    "# with open('/hpc/mzhu843/modelling/nest/results/filtered_neurons/filtered_place_cells.csv', 'w', newline='') as file:\n",
    "#     writer = csv.writer(file)\n",
    "#     writer.writerows(location_specific)\n",
    "\n",
    "# with open('/hpc/mzhu843/modelling/nest/results/filtered_neurons/filtered_interneurons.csv', 'w', newline='') as file:\n",
    "#     writer = csv.writer(file)\n",
    "#     writer.writerows(non_specific)\n",
    "\n",
    "\n"
   ]
  },
  {
   "cell_type": "code",
   "execution_count": null,
   "metadata": {},
   "outputs": [],
   "source": []
  }
 ],
 "metadata": {
  "kernelspec": {
   "display_name": "nest",
   "language": "python",
   "name": "python3"
  },
  "language_info": {
   "codemirror_mode": {
    "name": "ipython",
    "version": 3
   },
   "file_extension": ".py",
   "mimetype": "text/x-python",
   "name": "python",
   "nbconvert_exporter": "python",
   "pygments_lexer": "ipython3",
   "version": "3.11.6"
  }
 },
 "nbformat": 4,
 "nbformat_minor": 2
}
