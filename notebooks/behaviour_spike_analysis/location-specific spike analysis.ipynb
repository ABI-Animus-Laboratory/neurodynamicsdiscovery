{
 "cells": [
  {
   "cell_type": "code",
   "execution_count": 1,
   "metadata": {},
   "outputs": [
    {
     "name": "stdout",
     "output_type": "stream",
     "text": [
      "\n",
      "              -- N E S T --\n",
      "  Copyright (C) 2004 The NEST Initiative\n",
      "\n",
      " Version: 3.6.0\n",
      " Built: Sep 28 2023 11:53:34\n",
      "\n",
      " This program is provided AS IS and comes with\n",
      " NO WARRANTY. See the file LICENSE for details.\n",
      "\n",
      " Problems or suggestions?\n",
      "   Visit https://www.nest-simulator.org\n",
      "\n",
      " Type 'nest.help()' to find out more about NEST.\n",
      "\n"
     ]
    }
   ],
   "source": [
    "import numpy as np\n",
    "import pandas as pd\n",
    "import matplotlib.pyplot as plt\n",
    "import nest\n",
    "\n",
    "from scripts import visualizations, initializations, optimization, experiments, preprocessing, behaviour_analysis"
   ]
  },
  {
   "cell_type": "code",
   "execution_count": 2,
   "metadata": {},
   "outputs": [],
   "source": [
    "df = pd.read_csv('/hpc/mzhu843/modelling/nest/DATA/raw/ezytrack/behaviour_LocationOutput.csv')\n",
    "x_min, x_max, y_min, y_max = df['X'].min(), df['X'].max(), df['Y'].min(), df['Y'].max()\n",
    "x_mid, y_mid = (x_min + x_max) / 2, (y_min + y_max) / 2"
   ]
  },
  {
   "cell_type": "code",
   "execution_count": 3,
   "metadata": {},
   "outputs": [],
   "source": [
    "df['Quadrant'] = df.apply(behaviour_analysis.assign_quadrant, axis=1, args=(x_mid, y_mid))\n",
    "# df.to_csv('/hpc/mzhu843/modelling/nest/DATA/processed/ezytrack/behaviour_LocationOutput_quadrants.csv', index = False)"
   ]
  },
  {
   "cell_type": "code",
   "execution_count": 5,
   "metadata": {},
   "outputs": [
    {
     "name": "stdout",
     "output_type": "stream",
     "text": [
      "(array([ 2541, 11645, 11944, 15543, 17624, 17656, 17674]),)\n",
      "[1. 0. 0. 0.]\n"
     ]
    }
   ],
   "source": [
    "total_frames = 9017\n",
    "spikes = np.load(\"/hpc/mzhu843/modelling/nest/DATA/processed/spikes/experiment3_unfiltered_processed.npy\")\n",
    "print(np.where(spikes[0] == 1))\n",
    "num_neurons = np.size(spikes, axis=0)\n",
    "quadrants = df['Quadrant'].values\n",
    "spike_quadrant_counts = np.zeros((num_neurons, 4))\n",
    "\n",
    "for i in range(num_neurons):\n",
    "    spike_counts = np.zeros(4)\n",
    "    for j in range(total_frames):\n",
    "        if spikes[i][j] == 1:\n",
    "            if quadrants[j] == 'Top Left':\n",
    "                spike_counts[0] += 1\n",
    "            elif quadrants[j] == 'Top Right':\n",
    "                spike_counts[1] += 1\n",
    "            elif quadrants[j] == \"Bottom Left\":\n",
    "                spike_counts[2] += 1\n",
    "            else:\n",
    "                spike_counts[3] += 1\n",
    "    spike_quadrant_counts[i] = spike_counts\n",
    "print(spike_quadrant_counts[0])\n"
   ]
  }
 ],
 "metadata": {
  "kernelspec": {
   "display_name": "nest",
   "language": "python",
   "name": "python3"
  },
  "language_info": {
   "codemirror_mode": {
    "name": "ipython",
    "version": 3
   },
   "file_extension": ".py",
   "mimetype": "text/x-python",
   "name": "python",
   "nbconvert_exporter": "python",
   "pygments_lexer": "ipython3",
   "version": "3.11.6"
  }
 },
 "nbformat": 4,
 "nbformat_minor": 2
}
