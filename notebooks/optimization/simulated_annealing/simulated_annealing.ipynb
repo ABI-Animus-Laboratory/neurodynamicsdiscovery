{
 "cells": [
  {
   "cell_type": "code",
   "execution_count": 1,
   "metadata": {},
   "outputs": [
    {
     "name": "stdout",
     "output_type": "stream",
     "text": [
      "\n",
      "              -- N E S T --\n",
      "  Copyright (C) 2004 The NEST Initiative\n",
      "\n",
      " Version: 3.6.0\n",
      " Built: Sep 28 2023 11:53:34\n",
      "\n",
      " This program is provided AS IS and comes with\n",
      " NO WARRANTY. See the file LICENSE for details.\n",
      "\n",
      " Problems or suggestions?\n",
      "   Visit https://www.nest-simulator.org\n",
      "\n",
      " Type 'nest.help()' to find out more about NEST.\n",
      "\n"
     ]
    }
   ],
   "source": [
    "import numpy as np\n",
    "import pandas as pd\n",
    "import nest\n",
    "from scripts import optimization, neuron_categorization"
   ]
  },
  {
   "cell_type": "code",
   "execution_count": 2,
   "metadata": {},
   "outputs": [],
   "source": [
    "nest.rng_seed = 1\n",
    "np.random.seed(1)\n",
    "nest.set_verbosity('M_FATAL')"
   ]
  },
  {
   "cell_type": "code",
   "execution_count": 3,
   "metadata": {},
   "outputs": [
    {
     "name": "stdout",
     "output_type": "stream",
     "text": [
      "[[0.00000000e+00 0.00000000e+00 0.00000000e+00 ... 1.94863097e-01\n",
      "  1.93246507e-01 1.91643328e-01]\n",
      " [0.00000000e+00 0.00000000e+00 0.00000000e+00 ... 0.00000000e+00\n",
      "  0.00000000e+00 0.00000000e+00]\n",
      " [0.00000000e+00 0.00000000e+00 0.00000000e+00 ... 6.14871752e-05\n",
      "  6.10157047e-05 6.05478494e-05]\n",
      " ...\n",
      " [0.00000000e+00 0.00000000e+00 0.00000000e+00 ... 2.87559584e+00\n",
      "  2.86532517e+00 2.85509118e+00]\n",
      " [0.00000000e+00 0.00000000e+00 0.00000000e+00 ... 2.25074597e-03\n",
      "  2.24389291e-03 2.23706072e-03]\n",
      " [0.00000000e+00 0.00000000e+00 0.00000000e+00 ... 1.27465349e-01\n",
      "  1.27048679e-01 1.26633372e-01]]\n"
     ]
    }
   ],
   "source": [
    "calcium_data = np.load('/hpc/mzhu843/modelling/nest/DATA/raw/calcium traces/C_3.npy')\n",
    "\n",
    "spike_data = np.load('/hpc/mzhu843/modelling/nest/DATA/processed/spikes/S_3_p.npy')\n",
    "ezTrack_data = pd.read_csv('/hpc/mzhu843/modelling/nest/DATA/raw/ezytrack/behaviour_LocationOutput.csv')\n",
    "categorizer = neuron_categorization.NeuronCategorizer(spike_data, calcium_data, ezTrack_data)\n",
    "categorizer.run_categorization()\n",
    "categorized_neurons = categorizer.get_categorized_neurons()\n",
    "place_obs, int_obs = categorizer.place_obs, categorizer.int_obs\n",
    "\n",
    "initial_connectivity_matrix = optimization.initialize_connectivity_matrix_normal_distribution(categorized_neurons)\n",
    "lamb = 0.01"
   ]
  },
  {
   "cell_type": "code",
   "execution_count": 4,
   "metadata": {},
   "outputs": [
    {
     "name": "stderr",
     "output_type": "stream",
     "text": [
      " Temperature        Energy    Accept   Improve     Elapsed   Remaining\n",
      " 25000.00000  4378453399.72                         0:00:01            \r"
     ]
    }
   ],
   "source": [
    "problem = optimization.SimulatedAnnealing(initial_connectivity_matrix, place_obs, int_obs, lamb, categorized_neurons)\n",
    "problem.steps = 1000\n",
    "x, func = problem.anneal()\n",
    "np.save('/hpc/mzhu843/modelling/nest/DATA/processed/optimised_matrix/optimised_weights', x)"
   ]
  }
 ],
 "metadata": {
  "kernelspec": {
   "display_name": "nest",
   "language": "python",
   "name": "python3"
  },
  "language_info": {
   "codemirror_mode": {
    "name": "ipython",
    "version": 3
   },
   "file_extension": ".py",
   "mimetype": "text/x-python",
   "name": "python",
   "nbconvert_exporter": "python",
   "pygments_lexer": "ipython3",
   "version": "3.1.0"
  }
 },
 "nbformat": 4,
 "nbformat_minor": 2
}
