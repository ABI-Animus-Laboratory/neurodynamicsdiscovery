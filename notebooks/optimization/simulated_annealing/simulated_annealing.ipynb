{
 "cells": [
  {
   "cell_type": "code",
   "execution_count": 1,
   "metadata": {},
   "outputs": [
    {
     "name": "stdout",
     "output_type": "stream",
     "text": [
      "\n",
      "              -- N E S T --\n",
      "  Copyright (C) 2004 The NEST Initiative\n",
      "\n",
      " Version: 3.6.0\n",
      " Built: Sep 28 2023 11:53:34\n",
      "\n",
      " This program is provided AS IS and comes with\n",
      " NO WARRANTY. See the file LICENSE for details.\n",
      "\n",
      " Problems or suggestions?\n",
      "   Visit https://www.nest-simulator.org\n",
      "\n",
      " Type 'nest.help()' to find out more about NEST.\n",
      "\n"
     ]
    }
   ],
   "source": [
    "import numpy as np\n",
    "import pandas as pd\n",
    "import nest\n",
    "from scripts import optimization, neuron_categorization"
   ]
  },
  {
   "cell_type": "code",
   "execution_count": 2,
   "metadata": {},
   "outputs": [],
   "source": [
    "nest.rng_seed = 1\n",
    "np.random.seed(1)\n",
    "nest.set_verbosity('M_FATAL')"
   ]
  },
  {
   "cell_type": "code",
   "execution_count": 3,
   "metadata": {},
   "outputs": [],
   "source": [
    "calcium_data = np.load('/hpc/mzhu843/modelling/nest/DATA/raw/calcium traces/C_3.npy')\n",
    "\n",
    "spike_data = np.load('/hpc/mzhu843/modelling/nest/DATA/processed/spikes/S_3_p.npy')\n",
    "ezTrack_data = pd.read_csv('/hpc/mzhu843/modelling/nest/DATA/raw/ezytrack/behaviour_LocationOutput.csv')\n",
    "categorizer = neuron_categorization.NeuronCategorizer(spike_data, calcium_data, ezTrack_data)\n",
    "categorizer.run_categorization()\n",
    "categorized_neurons = categorizer.get_categorized_neurons()\n",
    "place_obs, int_obs = categorizer.place_obs, categorizer.int_obs\n",
    "\n",
    "initial_connectivity_matrix = optimization.initialize_connectivity_matrix_normal_distribution(categorized_neurons)\n",
    "# lamb = 0.01\n",
    "lamb = 0"
   ]
  },
  {
   "cell_type": "code",
   "execution_count": 4,
   "metadata": {},
   "outputs": [
    {
     "name": "stderr",
     "output_type": "stream",
     "text": [
      " Temperature        Energy    Accept   Improve     Elapsed   Remaining\n",
      "  2500.00000  4175909692.15    20.00%    20.00%     0:01:30     0:04:30"
     ]
    }
   ],
   "source": [
    "problem = optimization.SimulatedAnnealing(initial_connectivity_matrix, place_obs, int_obs, lamb, categorized_neurons)\n",
    "problem.steps = 50\n",
    "x, func = problem.anneal()\n",
    "# np.save('/hpc/mzhu843/modelling/nest/DATA/processed/optimised_matrix/optimised_weights', x)"
   ]
  }
 ],
 "metadata": {
  "kernelspec": {
   "display_name": "nest",
   "language": "python",
   "name": "python3"
  },
  "language_info": {
   "codemirror_mode": {
    "name": "ipython",
    "version": 3
   },
   "file_extension": ".py",
   "mimetype": "text/x-python",
   "name": "python",
   "nbconvert_exporter": "python",
   "pygments_lexer": "ipython3",
   "version": "3.11.6"
  }
 },
 "nbformat": 4,
 "nbformat_minor": 2
}
