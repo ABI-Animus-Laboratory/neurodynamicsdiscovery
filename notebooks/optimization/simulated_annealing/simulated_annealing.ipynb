{
 "cells": [
  {
   "cell_type": "code",
   "execution_count": 1,
   "metadata": {},
   "outputs": [
    {
     "name": "stdout",
     "output_type": "stream",
     "text": [
      "\n",
      "              -- N E S T --\n",
      "  Copyright (C) 2004 The NEST Initiative\n",
      "\n",
      " Version: 3.6.0\n",
      " Built: Sep 28 2023 11:53:34\n",
      "\n",
      " This program is provided AS IS and comes with\n",
      " NO WARRANTY. See the file LICENSE for details.\n",
      "\n",
      " Problems or suggestions?\n",
      "   Visit https://www.nest-simulator.org\n",
      "\n",
      " Type 'nest.help()' to find out more about NEST.\n",
      "\n"
     ]
    }
   ],
   "source": [
    "import numpy as np\n",
    "import pandas as pd\n",
    "import nest\n",
    "from scripts import optimization, neuron_categorization"
   ]
  },
  {
   "cell_type": "code",
   "execution_count": 2,
   "metadata": {},
   "outputs": [],
   "source": [
    "nest.rng_seed = 1\n",
    "np.random.seed(1)\n",
    "nest.set_verbosity('M_FATAL')"
   ]
  },
  {
   "cell_type": "code",
   "execution_count": 3,
   "metadata": {},
   "outputs": [],
   "source": [
    "calcium_data = np.load('/hpc/mzhu843/modelling/nest/DATA/processed/calcium_traces/C_3_p.npy')\n",
    "\n",
    "spike_data = np.load('/hpc/mzhu843/modelling/nest/DATA/processed/spikes/S_3_p.npy')\n",
    "ezTrack_data = pd.read_csv('/hpc/mzhu843/modelling/nest/DATA/raw/ezytrack/behaviour_LocationOutput.csv')\n",
    "categorizer = neuron_categorization.NeuronCategorizer(spike_data, calcium_data, ezTrack_data)\n",
    "categorizer.run_categorization()\n",
    "categorized_neurons = categorizer.get_categorized_neurons()\n",
    "place_obs, int_obs = categorizer.place_obs, categorizer.int_obs\n",
    "\n",
    "initial_connectivity_matrix = optimization.initialize_connectivity_matrix_normal_distribution(categorized_neurons)\n",
    "lamb = 0"
   ]
  },
  {
   "cell_type": "code",
   "execution_count": 4,
   "metadata": {},
   "outputs": [
    {
     "name": "stdout",
     "output_type": "stream",
     "text": [
      "Step One\n"
     ]
    },
    {
     "name": "stderr",
     "output_type": "stream",
     "text": [
      " Temperature        Energy    Accept   Improve     Elapsed   Remaining\n",
      " 25000.00000   89625152.40                         0:00:01            \r"
     ]
    },
    {
     "name": "stdout",
     "output_type": "stream",
     "text": [
      "Step Two\n",
      "Step Done\n",
      "Step One\n",
      "Step Two\n",
      "Step Done\n",
      "Step One\n",
      "Step Two\n",
      "Step Done\n",
      "Step One\n",
      "Step Two\n",
      "Step Done\n",
      "Step One\n",
      "Step Two\n",
      "Step Done\n",
      "Step One\n",
      "Step Two\n",
      "Step Done\n",
      "Step One\n",
      "Step Two\n",
      "Step Done\n",
      "Step One\n",
      "Step Two\n",
      "Step Done\n",
      "Step One\n",
      "Step Two\n",
      "Step Done\n",
      "Step One\n",
      "Step Two\n",
      "Step Done\n",
      "Step One\n",
      "Step Two\n",
      "Step Done\n",
      "Step One\n",
      "Step Two\n",
      "Step Done\n",
      "Step One\n",
      "Step Two\n",
      "Step Done\n",
      "Step One\n",
      "Step Two\n",
      "Step Done\n",
      "Step One\n",
      "Step Two\n",
      "Step Done\n",
      "Step One\n"
     ]
    },
    {
     "name": "stderr",
     "output_type": "stream",
     "text": [
      " 22800.27098   89125242.34    40.00%    33.33%     0:00:11     0:18:43"
     ]
    },
    {
     "name": "stdout",
     "output_type": "stream",
     "text": [
      "Step Two\n",
      "Step Done\n",
      "Step One\n",
      "Step Two\n",
      "Step Done\n",
      "Step One\n",
      "Step Two\n",
      "Step Done\n",
      "Step One\n",
      "Step Two\n",
      "Step Done\n",
      "Step One\n",
      "Step Two\n",
      "Step Done\n",
      "Step One\n",
      "Step Two\n",
      "Step Done\n",
      "Step One\n"
     ]
    },
    {
     "ename": "KeyboardInterrupt",
     "evalue": "",
     "output_type": "error",
     "traceback": [
      "\u001b[0;31m---------------------------------------------------------------------------\u001b[0m",
      "\u001b[0;31mKeyboardInterrupt\u001b[0m                         Traceback (most recent call last)",
      "Cell \u001b[0;32mIn[4], line 3\u001b[0m\n\u001b[1;32m      1\u001b[0m problem \u001b[38;5;241m=\u001b[39m optimization\u001b[38;5;241m.\u001b[39mSimulatedAnnealing(initial_connectivity_matrix, place_obs, int_obs, lamb, categorized_neurons)\n\u001b[1;32m      2\u001b[0m problem\u001b[38;5;241m.\u001b[39msteps \u001b[38;5;241m=\u001b[39m \u001b[38;5;241m1500\u001b[39m\n\u001b[0;32m----> 3\u001b[0m x, func \u001b[38;5;241m=\u001b[39m \u001b[43mproblem\u001b[49m\u001b[38;5;241;43m.\u001b[39;49m\u001b[43manneal\u001b[49m\u001b[43m(\u001b[49m\u001b[43m)\u001b[49m\n\u001b[1;32m      4\u001b[0m np\u001b[38;5;241m.\u001b[39msave(\u001b[38;5;124m'\u001b[39m\u001b[38;5;124m/hpc/mzhu843/modelling/nest/DATA/processed/optimised_matrix/optimised_weights\u001b[39m\u001b[38;5;124m'\u001b[39m, x)\n",
      "File \u001b[0;32m~/miniconda3/envs/nest/lib/python3.11/site-packages/simanneal/anneal.py:198\u001b[0m, in \u001b[0;36mAnnealer.anneal\u001b[0;34m(self)\u001b[0m\n\u001b[1;32m    196\u001b[0m dE \u001b[38;5;241m=\u001b[39m \u001b[38;5;28mself\u001b[39m\u001b[38;5;241m.\u001b[39mmove()\n\u001b[1;32m    197\u001b[0m \u001b[38;5;28;01mif\u001b[39;00m dE \u001b[38;5;129;01mis\u001b[39;00m \u001b[38;5;28;01mNone\u001b[39;00m:\n\u001b[0;32m--> 198\u001b[0m     E \u001b[38;5;241m=\u001b[39m \u001b[38;5;28;43mself\u001b[39;49m\u001b[38;5;241;43m.\u001b[39;49m\u001b[43menergy\u001b[49m\u001b[43m(\u001b[49m\u001b[43m)\u001b[49m\n\u001b[1;32m    199\u001b[0m     dE \u001b[38;5;241m=\u001b[39m E \u001b[38;5;241m-\u001b[39m prevEnergy\n\u001b[1;32m    200\u001b[0m \u001b[38;5;28;01melse\u001b[39;00m:\n",
      "File \u001b[0;32m/hpc/mzhu843/modelling/nest/scripts/optimization.py:17\u001b[0m, in \u001b[0;36mSimulatedAnnealing.energy\u001b[0;34m(self)\u001b[0m\n\u001b[1;32m     15\u001b[0m network \u001b[38;5;241m=\u001b[39m model\u001b[38;5;241m.\u001b[39mNeuronalNetwork(\u001b[38;5;28mself\u001b[39m\u001b[38;5;241m.\u001b[39mstate, \u001b[38;5;28mself\u001b[39m\u001b[38;5;241m.\u001b[39mcategorized_neurons)\n\u001b[1;32m     16\u001b[0m \u001b[38;5;28mprint\u001b[39m(\u001b[38;5;124m'\u001b[39m\u001b[38;5;124mStep One\u001b[39m\u001b[38;5;124m'\u001b[39m)\n\u001b[0;32m---> 17\u001b[0m \u001b[43mnetwork\u001b[49m\u001b[38;5;241;43m.\u001b[39;49m\u001b[43msimulate\u001b[49m\u001b[43m(\u001b[49m\u001b[43m)\u001b[49m\n\u001b[1;32m     18\u001b[0m \u001b[38;5;28mprint\u001b[39m(\u001b[38;5;124m'\u001b[39m\u001b[38;5;124mStep Two\u001b[39m\u001b[38;5;124m'\u001b[39m)\n\u001b[1;32m     19\u001b[0m place_pred \u001b[38;5;241m=\u001b[39m network\u001b[38;5;241m.\u001b[39mget_voltage_traces(\u001b[38;5;124m'\u001b[39m\u001b[38;5;124mPlace\u001b[39m\u001b[38;5;124m'\u001b[39m)\n",
      "File \u001b[0;32m/hpc/mzhu843/modelling/nest/scripts/model.py:85\u001b[0m, in \u001b[0;36mNeuronalNetwork.simulate\u001b[0;34m(self)\u001b[0m\n\u001b[1;32m     81\u001b[0m set_connection_weights(pyr, ec_parrot, ca3_parrot, inter, ms_parrot, \u001b[38;5;28mself\u001b[39m\u001b[38;5;241m.\u001b[39mweights, \u001b[38;5;28mself\u001b[39m\u001b[38;5;241m.\u001b[39mG_e, \u001b[38;5;28mself\u001b[39m\u001b[38;5;241m.\u001b[39mG_i, \u001b[38;5;28mself\u001b[39m\u001b[38;5;241m.\u001b[39mV_e, \u001b[38;5;28mself\u001b[39m\u001b[38;5;241m.\u001b[39mV_i,\n\u001b[1;32m     82\u001b[0m                        \u001b[38;5;28mself\u001b[39m\u001b[38;5;241m.\u001b[39mnum_pyr, \u001b[38;5;28mself\u001b[39m\u001b[38;5;241m.\u001b[39mnum_int)\n\u001b[1;32m     84\u001b[0m \u001b[38;5;66;03m#Run simulation\u001b[39;00m\n\u001b[0;32m---> 85\u001b[0m \u001b[43mnest\u001b[49m\u001b[38;5;241;43m.\u001b[39;49m\u001b[43mSimulate\u001b[49m\u001b[43m(\u001b[49m\u001b[38;5;28;43mself\u001b[39;49m\u001b[38;5;241;43m.\u001b[39;49m\u001b[43mruntime\u001b[49m\u001b[43m)\u001b[49m\n\u001b[1;32m     87\u001b[0m \u001b[38;5;28mself\u001b[39m\u001b[38;5;241m.\u001b[39msimulated \u001b[38;5;241m=\u001b[39m \u001b[38;5;28;01mTrue\u001b[39;00m\n\u001b[1;32m     89\u001b[0m \u001b[38;5;66;03m#Accessing, processing and storing recorded place cell variables from simulation\u001b[39;00m\n",
      "File \u001b[0;32m~/miniconda3/envs/nest/lib/python3.11/site-packages/nest/ll_api.py:216\u001b[0m, in \u001b[0;36mstack_checker.<locals>.stack_checker_func\u001b[0;34m(*args, **kwargs)\u001b[0m\n\u001b[1;32m    213\u001b[0m \u001b[38;5;129m@functools\u001b[39m\u001b[38;5;241m.\u001b[39mwraps(f)\n\u001b[1;32m    214\u001b[0m \u001b[38;5;28;01mdef\u001b[39;00m \u001b[38;5;21mstack_checker_func\u001b[39m(\u001b[38;5;241m*\u001b[39margs, \u001b[38;5;241m*\u001b[39m\u001b[38;5;241m*\u001b[39mkwargs):\n\u001b[1;32m    215\u001b[0m     \u001b[38;5;28;01mif\u001b[39;00m \u001b[38;5;129;01mnot\u001b[39;00m get_debug():\n\u001b[0;32m--> 216\u001b[0m         \u001b[38;5;28;01mreturn\u001b[39;00m \u001b[43mf\u001b[49m\u001b[43m(\u001b[49m\u001b[38;5;241;43m*\u001b[39;49m\u001b[43margs\u001b[49m\u001b[43m,\u001b[49m\u001b[43m \u001b[49m\u001b[38;5;241;43m*\u001b[39;49m\u001b[38;5;241;43m*\u001b[39;49m\u001b[43mkwargs\u001b[49m\u001b[43m)\u001b[49m\n\u001b[1;32m    217\u001b[0m     \u001b[38;5;28;01melse\u001b[39;00m:\n\u001b[1;32m    218\u001b[0m         sr(\u001b[38;5;124m\"\u001b[39m\u001b[38;5;124mcount\u001b[39m\u001b[38;5;124m\"\u001b[39m)\n",
      "File \u001b[0;32m~/miniconda3/envs/nest/lib/python3.11/site-packages/nest/lib/hl_api_simulation.py:65\u001b[0m, in \u001b[0;36mSimulate\u001b[0;34m(t)\u001b[0m\n\u001b[1;32m     49\u001b[0m \u001b[38;5;250m\u001b[39m\u001b[38;5;124;03m\"\"\"Simulate the network for `t` milliseconds.\u001b[39;00m\n\u001b[1;32m     50\u001b[0m \n\u001b[1;32m     51\u001b[0m \u001b[38;5;124;03m`Simulate(t)` runs `Prepare()`, `Run(t)`, and `Cleanup()` in this order.\u001b[39;00m\n\u001b[0;32m   (...)\u001b[0m\n\u001b[1;32m     61\u001b[0m \n\u001b[1;32m     62\u001b[0m \u001b[38;5;124;03m\"\"\"\u001b[39;00m\n\u001b[1;32m     64\u001b[0m sps(\u001b[38;5;28mfloat\u001b[39m(t))\n\u001b[0;32m---> 65\u001b[0m \u001b[43msr\u001b[49m\u001b[43m(\u001b[49m\u001b[38;5;124;43m\"\u001b[39;49m\u001b[38;5;124;43mms Simulate\u001b[39;49m\u001b[38;5;124;43m\"\u001b[39;49m\u001b[43m)\u001b[49m\n",
      "File \u001b[0;32m~/miniconda3/envs/nest/lib/python3.11/site-packages/nest/ll_api.py:95\u001b[0m, in \u001b[0;36mcatching_sli_run\u001b[0;34m(cmd)\u001b[0m\n\u001b[1;32m     81\u001b[0m \u001b[38;5;28;01mdef\u001b[39;00m \u001b[38;5;21mcatching_sli_run\u001b[39m(cmd):\n\u001b[1;32m     82\u001b[0m \u001b[38;5;250m    \u001b[39m\u001b[38;5;124;03m\"\"\"Send a command string to the NEST kernel to be executed, catch\u001b[39;00m\n\u001b[1;32m     83\u001b[0m \u001b[38;5;124;03m    SLI errors and re-raise them in Python.\u001b[39;00m\n\u001b[1;32m     84\u001b[0m \n\u001b[0;32m   (...)\u001b[0m\n\u001b[1;32m     92\u001b[0m \u001b[38;5;124;03m        SLI errors are bubbled to the Python API as NESTErrors.\u001b[39;00m\n\u001b[1;32m     93\u001b[0m \u001b[38;5;124;03m    \"\"\"\u001b[39;00m\n\u001b[0;32m---> 95\u001b[0m     \u001b[43mengine\u001b[49m\u001b[38;5;241;43m.\u001b[39;49m\u001b[43mrun\u001b[49m\u001b[43m(\u001b[49m\u001b[38;5;124;43m\"\u001b[39;49m\u001b[38;5;124;43m{\u001b[39;49m\u001b[38;5;132;43;01m%s\u001b[39;49;00m\u001b[38;5;124;43m} runprotected\u001b[39;49m\u001b[38;5;124;43m\"\u001b[39;49m\u001b[43m \u001b[49m\u001b[38;5;241;43m%\u001b[39;49m\u001b[43m \u001b[49m\u001b[43mcmd\u001b[49m\u001b[43m)\u001b[49m\n\u001b[1;32m     96\u001b[0m     \u001b[38;5;28;01mif\u001b[39;00m \u001b[38;5;129;01mnot\u001b[39;00m sli_pop():\n\u001b[1;32m     97\u001b[0m         errorname \u001b[38;5;241m=\u001b[39m sli_pop()\n",
      "\u001b[0;31mKeyboardInterrupt\u001b[0m: "
     ]
    }
   ],
   "source": [
    "problem = optimization.SimulatedAnnealing(initial_connectivity_matrix, place_obs, int_obs, lamb, categorized_neurons)\n",
    "problem.steps = 1500\n",
    "x, func = problem.anneal()\n",
    "np.save('/hpc/mzhu843/modelling/nest/DATA/processed/optimised_matrix/optimised_weights', x)"
   ]
  }
 ],
 "metadata": {
  "kernelspec": {
   "display_name": "nest",
   "language": "python",
   "name": "python3"
  },
  "language_info": {
   "codemirror_mode": {
    "name": "ipython",
    "version": 3
   },
   "file_extension": ".py",
   "mimetype": "text/x-python",
   "name": "python",
   "nbconvert_exporter": "python",
   "pygments_lexer": "ipython3",
   "version": "3.11.6"
  }
 },
 "nbformat": 4,
 "nbformat_minor": 2
}
