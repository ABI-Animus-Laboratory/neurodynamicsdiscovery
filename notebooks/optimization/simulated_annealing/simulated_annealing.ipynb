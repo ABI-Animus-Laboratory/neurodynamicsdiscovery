{
 "cells": [
  {
   "cell_type": "code",
   "execution_count": 1,
   "metadata": {},
   "outputs": [
    {
     "name": "stdout",
     "output_type": "stream",
     "text": [
      "\n",
      "              -- N E S T --\n",
      "  Copyright (C) 2004 The NEST Initiative\n",
      "\n",
      " Version: 3.6.0\n",
      " Built: Sep 28 2023 11:53:34\n",
      "\n",
      " This program is provided AS IS and comes with\n",
      " NO WARRANTY. See the file LICENSE for details.\n",
      "\n",
      " Problems or suggestions?\n",
      "   Visit https://www.nest-simulator.org\n",
      "\n",
      " Type 'nest.help()' to find out more about NEST.\n",
      "\n"
     ]
    }
   ],
   "source": [
    "import numpy as np\n",
    "import pandas as pd\n",
    "import nest\n",
    "from scripts import optimization, neuron_categorization"
   ]
  },
  {
   "cell_type": "code",
   "execution_count": 2,
   "metadata": {},
   "outputs": [],
   "source": [
    "nest.rng_seed = 1\n",
    "np.random.seed(1)\n",
    "nest.set_verbosity('M_FATAL')"
   ]
  },
  {
   "cell_type": "code",
   "execution_count": 3,
   "metadata": {},
   "outputs": [
    {
     "ename": "TypeError",
     "evalue": "NeuronCategorizer.get_neuron_categorization_square_box() takes 2 positional arguments but 3 were given",
     "output_type": "error",
     "traceback": [
      "\u001b[0;31m---------------------------------------------------------------------------\u001b[0m",
      "\u001b[0;31mTypeError\u001b[0m                                 Traceback (most recent call last)",
      "Cell \u001b[0;32mIn[3], line 6\u001b[0m\n\u001b[1;32m      4\u001b[0m ezTrack_data \u001b[38;5;241m=\u001b[39m pd\u001b[38;5;241m.\u001b[39mread_csv(\u001b[38;5;124m'\u001b[39m\u001b[38;5;124m/hpc/mzhu843/modelling/nest/DATA/raw/ezytrack/behaviour_LocationOutput.csv\u001b[39m\u001b[38;5;124m'\u001b[39m)\n\u001b[1;32m      5\u001b[0m categorizer \u001b[38;5;241m=\u001b[39m neuron_categorization\u001b[38;5;241m.\u001b[39mNeuronCategorizer(spike_data, calcium_data, ezTrack_data)\n\u001b[0;32m----> 6\u001b[0m \u001b[43mcategorizer\u001b[49m\u001b[38;5;241;43m.\u001b[39;49m\u001b[43mrun_categorization\u001b[49m\u001b[43m(\u001b[49m\u001b[43m)\u001b[49m\n\u001b[1;32m      7\u001b[0m categorized_neurons \u001b[38;5;241m=\u001b[39m categorizer\u001b[38;5;241m.\u001b[39mget_categorized_neurons()\n\u001b[1;32m      8\u001b[0m place_obs, int_obs \u001b[38;5;241m=\u001b[39m categorizer\u001b[38;5;241m.\u001b[39mplace_obs, categorizer\u001b[38;5;241m.\u001b[39mint_obs\n",
      "File \u001b[0;32m/hpc/mzhu843/modelling/nest/scripts/neuron_categorization.py:152\u001b[0m, in \u001b[0;36mNeuronCategorizer.run_categorization\u001b[0;34m(self)\u001b[0m\n\u001b[1;32m    147\u001b[0m \u001b[38;5;250m\u001b[39m\u001b[38;5;124;03m'''\u001b[39;00m\n\u001b[1;32m    148\u001b[0m \u001b[38;5;124;03mRuns the neuron categorization pipeline\u001b[39;00m\n\u001b[1;32m    149\u001b[0m \u001b[38;5;124;03m'''\u001b[39;00m\n\u001b[1;32m    151\u001b[0m \u001b[38;5;28mself\u001b[39m\u001b[38;5;241m.\u001b[39mcalculate_spike_coordinates()\n\u001b[0;32m--> 152\u001b[0m \u001b[38;5;28;43mself\u001b[39;49m\u001b[38;5;241;43m.\u001b[39;49m\u001b[43mcategorize_neurons\u001b[49m\u001b[43m(\u001b[49m\u001b[43m)\u001b[49m\n\u001b[1;32m    153\u001b[0m \u001b[38;5;28mself\u001b[39m\u001b[38;5;241m.\u001b[39mcategorized \u001b[38;5;241m=\u001b[39m \u001b[38;5;28;01mTrue\u001b[39;00m\n\u001b[1;32m    154\u001b[0m \u001b[38;5;28mself\u001b[39m\u001b[38;5;241m.\u001b[39msplit_calcium_traces()\n",
      "File \u001b[0;32m/hpc/mzhu843/modelling/nest/scripts/neuron_categorization.py:97\u001b[0m, in \u001b[0;36mNeuronCategorizer.categorize_neurons\u001b[0;34m(self)\u001b[0m\n\u001b[1;32m     95\u001b[0m \u001b[38;5;28;01mfor\u001b[39;00m neuron_id \u001b[38;5;129;01min\u001b[39;00m \u001b[38;5;28mself\u001b[39m\u001b[38;5;241m.\u001b[39mspike_coordinates\u001b[38;5;241m.\u001b[39mkeys():\n\u001b[1;32m     96\u001b[0m     neuron_spike_coords \u001b[38;5;241m=\u001b[39m \u001b[38;5;28mself\u001b[39m\u001b[38;5;241m.\u001b[39mspike_coordinates[neuron_id]\n\u001b[0;32m---> 97\u001b[0m     label \u001b[38;5;241m=\u001b[39m \u001b[38;5;28;43mself\u001b[39;49m\u001b[38;5;241;43m.\u001b[39;49m\u001b[43mget_neuron_categorization_square_box\u001b[49m\u001b[43m(\u001b[49m\u001b[43mneuron_spike_coords\u001b[49m\u001b[43m,\u001b[49m\u001b[43m \u001b[49m\u001b[38;5;28;43mself\u001b[39;49m\u001b[38;5;241;43m.\u001b[39;49m\u001b[43mofield_w\u001b[49m\u001b[43m)\u001b[49m\n\u001b[1;32m     98\u001b[0m     categorized_neurons[label][neuron_id] \u001b[38;5;241m=\u001b[39m neuron_spike_coords\n\u001b[1;32m    100\u001b[0m \u001b[38;5;28mself\u001b[39m\u001b[38;5;241m.\u001b[39mcategorized_neurons \u001b[38;5;241m=\u001b[39m categorized_neurons\n",
      "\u001b[0;31mTypeError\u001b[0m: NeuronCategorizer.get_neuron_categorization_square_box() takes 2 positional arguments but 3 were given"
     ]
    }
   ],
   "source": [
    "calcium_data = np.load('/hpc/mzhu843/modelling/nest/DATA/raw/calcium traces/C_3.npy')\n",
    "\n",
    "spike_data = np.load('/hpc/mzhu843/modelling/nest/DATA/processed/spikes/S_3_p.npy')\n",
    "ezTrack_data = pd.read_csv('/hpc/mzhu843/modelling/nest/DATA/raw/ezytrack/behaviour_LocationOutput.csv')\n",
    "categorizer = neuron_categorization.NeuronCategorizer(spike_data, calcium_data, ezTrack_data)\n",
    "categorizer.run_categorization()\n",
    "categorized_neurons = categorizer.get_categorized_neurons()\n",
    "place_obs, int_obs = categorizer.place_obs, categorizer.int_obs\n",
    "\n",
    "initial_connectivity_matrix = optimization.initialize_connectivity_matrix_normal_distribution(categorized_neurons)\n",
    "lamb = 0.01"
   ]
  },
  {
   "cell_type": "code",
   "execution_count": null,
   "metadata": {},
   "outputs": [
    {
     "name": "stderr",
     "output_type": "stream",
     "text": [
      " Temperature        Energy    Accept   Improve     Elapsed   Remaining\n",
      " 25000.00000  4378453399.72                         0:00:01            \r"
     ]
    }
   ],
   "source": [
    "problem = optimization.SimulatedAnnealing(initial_connectivity_matrix, place_obs, int_obs, lamb, categorized_neurons)\n",
    "problem.steps = 1000\n",
    "x, func = problem.anneal()\n",
    "np.save('/hpc/mzhu843/modelling/nest/DATA/processed/optimised_matrix/optimised_weights', x)"
   ]
  }
 ],
 "metadata": {
  "kernelspec": {
   "display_name": "nest",
   "language": "python",
   "name": "python3"
  },
  "language_info": {
   "codemirror_mode": {
    "name": "ipython",
    "version": 3
   },
   "file_extension": ".py",
   "mimetype": "text/x-python",
   "name": "python",
   "nbconvert_exporter": "python",
   "pygments_lexer": "ipython3",
   "version": "3.11.6"
  }
 },
 "nbformat": 4,
 "nbformat_minor": 2
}
