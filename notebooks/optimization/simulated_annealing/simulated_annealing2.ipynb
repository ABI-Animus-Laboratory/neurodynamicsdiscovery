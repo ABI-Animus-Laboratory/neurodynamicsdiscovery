{
 "cells": [
  {
   "cell_type": "code",
   "execution_count": 1,
   "metadata": {},
   "outputs": [
    {
     "name": "stdout",
     "output_type": "stream",
     "text": [
      "\n",
      "              -- N E S T --\n",
      "  Copyright (C) 2004 The NEST Initiative\n",
      "\n",
      " Version: 3.6.0\n",
      " Built: Sep 28 2023 11:53:34\n",
      "\n",
      " This program is provided AS IS and comes with\n",
      " NO WARRANTY. See the file LICENSE for details.\n",
      "\n",
      " Problems or suggestions?\n",
      "   Visit https://www.nest-simulator.org\n",
      "\n",
      " Type 'nest.help()' to find out more about NEST.\n",
      "\n"
     ]
    }
   ],
   "source": [
    "import numpy as np\n",
    "import pandas as pd\n",
    "import nest\n",
    "from scripts import optimization, neuron_categorization, visualizations"
   ]
  },
  {
   "cell_type": "code",
   "execution_count": 2,
   "metadata": {},
   "outputs": [],
   "source": [
    "nest.rng_seed = 1\n",
    "np.random.seed(1)\n",
    "nest.set_verbosity('M_FATAL')"
   ]
  },
  {
   "cell_type": "code",
   "execution_count": 3,
   "metadata": {},
   "outputs": [
    {
     "name": "stdout",
     "output_type": "stream",
     "text": [
      "dict_keys(['2', '6', '7', '9', '12', '14', '15', '16', '20', '27', '28', '30', '31', '35', '36', '39', '45', '48', '51', '56', '61', '62', '67', '68', '69', '71', '73', '74', '75', '76', '77', '78', '79', '81', '84', '87', '90', '92', '93', '95', '97', '98', '100', '103', '105', '109', '110', '113', '114', '117', '118', '120', '124', '125', '126', '131', '133', '135', '136', '138', '141', '143', '144', '147', '150', '153', '154', '156', '160', '161', '162', '167', '171', '172', '174', '176', '177', '178', '179', '180', '181', '182', '184', '185', '186', '188', '189', '190', '191', '196', '199', '200'])\n"
     ]
    }
   ],
   "source": [
    "calcium_data = np.load('/hpc/mzhu843/modelling/nest/DATA/processed/calcium_traces/C_3_p.npy')\n",
    "\n",
    "spike_data = np.load('/hpc/mzhu843/modelling/nest/DATA/processed/spikes/S_3_p.npy')\n",
    "\n",
    "ezTrack_data = pd.read_csv('/hpc/mzhu843/modelling/nest/DATA/raw/ezytrack/behaviour_LocationOutput.csv')\n",
    "\n",
    "\n",
    "categorizer = neuron_categorization.NeuronCategorizer(spike_data, calcium_data, ezTrack_data)\n",
    "categorizer.run_categorization()\n",
    "categorized_neurons = categorizer.get_categorized_neurons()\n",
    "\n",
    "selected_ids = ['30', '31', '51', '74', '77']\n",
    "selected_cells = []\n",
    "for id in selected_ids:\n",
    "    selected_cells.append(categorized_neurons['Place'][id])\n",
    "small_categorized_neurons = {'Place': selected_cells}\n",
    "\n",
    "id_mask = [list(categorized_neurons['Place'].keys()).index(id) for id in selected_ids]\n",
    "\n",
    "place_obs = categorizer.place_obs[id_mask][:, :2999]\n",
    "\n",
    "initial_connectivity_matrix = np.load('/hpc/mzhu843/modelling/nest/DATA/raw/inital_matrices/initial_weights_2.npy')\n",
    "initial_spikes_weights = np.ones((5, 3000))\n",
    "\n",
    "lamb = 0\n",
    "\n",
    "\n"
   ]
  },
  {
   "cell_type": "code",
   "execution_count": 4,
   "metadata": {},
   "outputs": [
    {
     "name": "stderr",
     "output_type": "stream",
     "text": [
      " Temperature        Energy    Accept   Improve     Elapsed   Remaining\n",
      "  3962.23298     220273.47     0.00%     0.00%     0:00:41     0:02:46"
     ]
    }
   ],
   "source": [
    "problem = optimization.SimulatedAnnealing2(initial_connectivity_matrix, place_obs , lamb, small_categorized_neurons, initial_spikes_weights)\n",
    "problem.steps = 30000\n",
    "x, func = problem.anneal()"
   ]
  }
 ],
 "metadata": {
  "kernelspec": {
   "display_name": "nest",
   "language": "python",
   "name": "python3"
  },
  "language_info": {
   "codemirror_mode": {
    "name": "ipython",
    "version": 3
   },
   "file_extension": ".py",
   "mimetype": "text/x-python",
   "name": "python",
   "nbconvert_exporter": "python",
   "pygments_lexer": "ipython3",
   "version": "3.11.6"
  }
 },
 "nbformat": 4,
 "nbformat_minor": 2
}
