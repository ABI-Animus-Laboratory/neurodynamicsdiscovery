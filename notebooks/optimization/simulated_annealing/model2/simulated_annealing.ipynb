{
 "cells": [
  {
   "cell_type": "code",
   "execution_count": 1,
   "metadata": {},
   "outputs": [
    {
     "name": "stdout",
     "output_type": "stream",
     "text": [
      "\n",
      "              -- N E S T --\n",
      "  Copyright (C) 2004 The NEST Initiative\n",
      "\n",
      " Version: 3.6.0\n",
      " Built: Sep 28 2023 11:53:34\n",
      "\n",
      " This program is provided AS IS and comes with\n",
      " NO WARRANTY. See the file LICENSE for details.\n",
      "\n",
      " Problems or suggestions?\n",
      "   Visit https://www.nest-simulator.org\n",
      "\n",
      " Type 'nest.help()' to find out more about NEST.\n",
      "\n"
     ]
    }
   ],
   "source": [
    "import numpy as np\n",
    "import pandas as pd\n",
    "import nest\n",
    "import pickle\n",
    "from scripts import optimization, neuron_categorization, visualizations"
   ]
  },
  {
   "cell_type": "code",
   "execution_count": 2,
   "metadata": {},
   "outputs": [],
   "source": [
    "nest.rng_seed = 1\n",
    "np.random.seed(1)\n",
    "nest.set_verbosity('M_FATAL')"
   ]
  },
  {
   "cell_type": "code",
   "execution_count": 3,
   "metadata": {},
   "outputs": [],
   "source": [
    "with open('/hpc/mzhu843/modelling/nest/DATA/processed/model2/categorized_neurons.pkl', 'rb') as file:\n",
    "    # Load the object from the file\n",
    "    small_categorized_neurons = pickle.load(file)\n",
    "\n",
    "with open('/hpc/mzhu843/modelling/nest/DATA/processed/model2/place_obs.pkl', 'rb') as file:\n",
    "    # Load the object from the file\n",
    "    place_obs = pickle.load(file)\n",
    "\n",
    "initial_connectivity_matrix = np.load('/hpc/mzhu843/modelling/nest/DATA/raw/inital_matrices/model2/initial_weights.npy')\n",
    "initial_spikes_weights = np.ones((5, 3000))\n",
    "\n",
    "lamb = 0\n",
    "\n",
    "\n"
   ]
  },
  {
   "cell_type": "code",
   "execution_count": 4,
   "metadata": {},
   "outputs": [],
   "source": [
    "move_params = {\n",
    "    'weights_min': 0.01,\n",
    "    'weights_max' : 3,\n",
    "    'weights_change_min' : -0.1,\n",
    "    'weights_change_max' : 0.1,\n",
    "    'spike_weights_min': -3,\n",
    "    'spike_weights_max' : 3,\n",
    "    'spike_weights_change_min' : -0.2,\n",
    "    'spike_weights_change_max' : 0.2,\n",
    "    'spike_weights_prob' : 0.2\n",
    "}"
   ]
  },
  {
   "cell_type": "code",
   "execution_count": 5,
   "metadata": {},
   "outputs": [
    {
     "name": "stderr",
     "output_type": "stream",
     "text": [
      " Temperature        Energy    Accept   Improve     Elapsed   Remaining\n",
      "   250.00000   25268359.11     0.00%     0.00%     0:00:30     0:00:30"
     ]
    }
   ],
   "source": [
    "problem = optimization.SimulatedAnnealing2(initial_connectivity_matrix, place_obs , lamb, small_categorized_neurons, initial_spikes_weights, move_params)\n",
    "problem.steps = 2000\n",
    "x, func = problem.anneal()"
   ]
  }
 ],
 "metadata": {
  "kernelspec": {
   "display_name": "nest",
   "language": "python",
   "name": "python3"
  },
  "language_info": {
   "codemirror_mode": {
    "name": "ipython",
    "version": 3
   },
   "file_extension": ".py",
   "mimetype": "text/x-python",
   "name": "python",
   "nbconvert_exporter": "python",
   "pygments_lexer": "ipython3",
   "version": "3.11.6"
  }
 },
 "nbformat": 4,
 "nbformat_minor": 2
}
