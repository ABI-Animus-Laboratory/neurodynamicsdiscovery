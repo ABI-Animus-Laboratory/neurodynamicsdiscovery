{
 "cells": [
  {
   "cell_type": "code",
   "execution_count": 1,
   "metadata": {},
   "outputs": [
    {
     "name": "stdout",
     "output_type": "stream",
     "text": [
      "\n",
      "              -- N E S T --\n",
      "  Copyright (C) 2004 The NEST Initiative\n",
      "\n",
      " Version: 3.6.0\n",
      " Built: Sep 28 2023 11:53:34\n",
      "\n",
      " This program is provided AS IS and comes with\n",
      " NO WARRANTY. See the file LICENSE for details.\n",
      "\n",
      " Problems or suggestions?\n",
      "   Visit https://www.nest-simulator.org\n",
      "\n",
      " Type 'nest.help()' to find out more about NEST.\n",
      "\n"
     ]
    }
   ],
   "source": [
    "from scripts import optimization, model\n",
    "import numpy as np\n",
    "import pickle"
   ]
  },
  {
   "cell_type": "code",
   "execution_count": 2,
   "metadata": {},
   "outputs": [],
   "source": [
    "weights_1 = np.zeros((10, 10))\n",
    "\n",
    "for i in range(5):\n",
    "    weights_1[i][0:5] = np.random.normal(1, scale=0.4, size=5)\n",
    "    weights_1[i + 5][i] = 1\n",
    "\n",
    "for i in range(10):\n",
    "    weights_1[i][i] = 0"
   ]
  },
  {
   "cell_type": "code",
   "execution_count": 3,
   "metadata": {},
   "outputs": [],
   "source": [
    "first_input_weights = np.random.normal(2.5, scale=3, size=(5, 3000))"
   ]
  },
  {
   "cell_type": "code",
   "execution_count": 4,
   "metadata": {},
   "outputs": [],
   "source": [
    "with open('/hpc/mzhu843/modelling/nest/DATA/processed/model2/categorized_neurons.pkl', 'rb') as file:\n",
    "    small_categorized_neurons = pickle.load(file)"
   ]
  },
  {
   "cell_type": "code",
   "execution_count": 5,
   "metadata": {},
   "outputs": [],
   "source": [
    "\n",
    "\n",
    "network = model.Model2(small_categorized_neurons, weights_1, first_input_weights)\n",
    "\n",
    "network.simulate()\n",
    "\n",
    "place_obs = network.get_voltage_traces()\n",
    "\n",
    "second_weights = np.zeros((10, 10))\n",
    "\n",
    "for i in range(5):\n",
    "    second_weights[i][0:5] = np.random.randint(-3, 3, size=5)\n",
    "    second_weights[i + 5][i] = 1\n",
    "\n",
    "for i in range(10):\n",
    "    second_weights[i][i] = 0\n",
    "\n",
    "move_params = {\n",
    "                'weights_range': [(-5, 5), (-4, 4), (-3, 3)],\n",
    "                'weights_change_range': [(-0.1, 0.1), (-0.2, 0.2), (-0.3, 0.3), (-0.4, 0.4)],\n",
    "                'optimise_input_weights': [False]\n",
    "            }\n",
    "\n",
    "lamb = 0.01\n",
    "\n",
    "problem = optimization.SimulatedAnnealing2(second_weights, place_obs , lamb, small_categorized_neurons, first_input_weights, move_params)\n",
    "problem.steps = 10\n"
   ]
  },
  {
   "cell_type": "code",
   "execution_count": 6,
   "metadata": {},
   "outputs": [
    {
     "name": "stderr",
     "output_type": "stream",
     "text": [
      " Temperature        Energy    Accept   Improve     Elapsed   Remaining\n",
      "     2.50000      99361.35     0.00%     0.00%     0:00:00     0:00:00 Temperature        Energy    Accept   Improve     Elapsed   Remaining\n",
      "     2.50000      95505.88   100.00%   100.00%     0:00:00     0:00:00 Temperature        Energy    Accept   Improve     Elapsed   Remaining\n",
      "     2.50000      96548.68     0.00%     0.00%     0:00:00     0:00:00 Temperature        Energy    Accept   Improve     Elapsed   Remaining\n",
      "     2.50000      99307.80     0.00%     0.00%     0:00:00     0:00:00 Temperature        Energy    Accept   Improve     Elapsed   Remaining\n",
      "     2.50000      94075.06     0.00%     0.00%     0:00:00     0:00:00 Temperature        Energy    Accept   Improve     Elapsed   Remaining\n",
      "     2.50000      97969.11     0.00%     0.00%     0:00:00     0:00:00 Temperature        Energy    Accept   Improve     Elapsed   Remaining\n",
      "     2.50000      89449.12   100.00%   100.00%     0:00:00     0:00:00 Temperature        Energy    Accept   Improve     Elapsed   Remaining\n",
      "     2.50000      93682.66     0.00%     0.00%     0:00:00     0:00:00 Temperature        Energy    Accept   Improve     Elapsed   Remaining\n",
      "     2.50000      89273.71   100.00%   100.00%     0:00:00     0:00:00 Temperature        Energy    Accept   Improve     Elapsed   Remaining\n",
      "     2.50000      99728.79     0.00%     0.00%     0:00:00     0:00:00 Temperature        Energy    Accept   Improve     Elapsed   Remaining\n",
      "     2.50000      86525.11     0.00%     0.00%     0:00:00     0:00:00 Temperature        Energy    Accept   Improve     Elapsed   Remaining\n",
      "     2.50000      88885.11     0.00%     0.00%     0:00:00     0:00:00 Temperature        Energy    Accept   Improve     Elapsed   Remaining\n",
      "     2.50000      98170.83     0.00%     0.00%     0:00:00     0:00:00 Temperature        Energy    Accept   Improve     Elapsed   Remaining\n",
      "     2.50000      98134.16     0.00%     0.00%     0:00:00     0:00:00 Temperature        Energy    Accept   Improve     Elapsed   Remaining\n",
      "     2.50000      99867.66     0.00%     0.00%     0:00:00     0:00:00 Temperature        Energy    Accept   Improve     Elapsed   Remaining\n",
      "     2.50000      96664.31     0.00%     0.00%     0:00:00     0:00:00 Temperature        Energy    Accept   Improve     Elapsed   Remaining\n",
      "     2.50000      97751.94     0.00%     0.00%     0:00:00     0:00:00 Temperature        Energy    Accept   Improve     Elapsed   Remaining\n",
      "     2.50000      95596.03     0.00%     0.00%     0:00:00     0:00:00 Temperature        Energy    Accept   Improve     Elapsed   Remaining\n",
      "     2.50000     100002.32     0.00%     0.00%     0:00:00     0:00:00 Temperature        Energy    Accept   Improve     Elapsed   Remaining\n",
      "     2.50000      86801.93     0.00%     0.00%     0:00:00     0:00:00 Temperature        Energy    Accept   Improve     Elapsed   Remaining\n",
      "     2.50000      93914.07     0.00%     0.00%     0:00:00     0:00:00 Temperature        Energy    Accept   Improve     Elapsed   Remaining\n",
      "     2.50000     103551.97     0.00%     0.00%     0:00:00     0:00:00 Temperature        Energy    Accept   Improve     Elapsed   Remaining\n",
      "     2.50000      94814.33     0.00%     0.00%     0:00:00     0:00:00 Temperature        Energy    Accept   Improve     Elapsed   Remaining\n",
      "     2.50000      88391.12   100.00%   100.00%     0:00:00     0:00:00 Temperature        Energy    Accept   Improve     Elapsed   Remaining\n",
      "     2.50000      98391.96     0.00%     0.00%     0:00:00     0:00:00 Temperature        Energy    Accept   Improve     Elapsed   Remaining\n",
      "     2.50000      99843.87     0.00%     0.00%     0:00:00     0:00:00 Temperature        Energy    Accept   Improve     Elapsed   Remaining\n",
      "     2.50000      98757.44     0.00%     0.00%     0:00:00     0:00:00 Temperature        Energy    Accept   Improve     Elapsed   Remaining\n",
      "     2.50000     100262.33     0.00%     0.00%     0:00:00     0:00:00"
     ]
    }
   ],
   "source": [
    "sensitivity_analysis = optimization.SensitivityAnalysis(move_params, problem, ['weights_range', 'weights_change_range'], save_results=True)\n",
    "param_perms = sensitivity_analysis.generate_param_permutations()\n",
    "sensitivity_analysis.run_analysis()"
   ]
  }
 ],
 "metadata": {
  "kernelspec": {
   "display_name": "nest",
   "language": "python",
   "name": "python3"
  },
  "language_info": {
   "codemirror_mode": {
    "name": "ipython",
    "version": 3
   },
   "file_extension": ".py",
   "mimetype": "text/x-python",
   "name": "python",
   "nbconvert_exporter": "python",
   "pygments_lexer": "ipython3",
   "version": "3.11.6"
  }
 },
 "nbformat": 4,
 "nbformat_minor": 2
}
