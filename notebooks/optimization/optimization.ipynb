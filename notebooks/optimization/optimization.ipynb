{
 "cells": [
  {
   "cell_type": "code",
   "execution_count": 1,
   "metadata": {},
   "outputs": [
    {
     "name": "stdout",
     "output_type": "stream",
     "text": [
      "\n",
      "              -- N E S T --\n",
      "  Copyright (C) 2004 The NEST Initiative\n",
      "\n",
      " Version: 3.6.0\n",
      " Built: Sep 28 2023 11:53:34\n",
      "\n",
      " This program is provided AS IS and comes with\n",
      " NO WARRANTY. See the file LICENSE for details.\n",
      "\n",
      " Problems or suggestions?\n",
      "   Visit https://www.nest-simulator.org\n",
      "\n",
      " Type 'nest.help()' to find out more about NEST.\n",
      "\n"
     ]
    }
   ],
   "source": [
    "import matplotlib.pyplot as plt\n",
    "import numpy as np\n",
    "import pandas as pd\n",
    "from scipy.optimize import basinhopping\n",
    "import nest\n",
    "from scripts import optimization\n",
    "import time"
   ]
  },
  {
   "cell_type": "code",
   "execution_count": 2,
   "metadata": {},
   "outputs": [],
   "source": [
    "nest.rng_seed = 1\n",
    "np.random.seed(1)\n",
    "nest.set_verbosity('M_FATAL')"
   ]
  },
  {
   "cell_type": "code",
   "execution_count": 3,
   "metadata": {},
   "outputs": [],
   "source": [
    "experimental_data = np.load('/hpc/mzhu843/modelling/nest/DATA/processed/experiment3_unfiltered_processed.npy')\n",
    "initial_connectivity_matrix = np.load('/hpc/mzhu843/modelling/nest/DATA/matrices/matrix.npy')\n",
    "lamb = 0.01\n"
   ]
  },
  {
   "cell_type": "code",
   "execution_count": 4,
   "metadata": {},
   "outputs": [],
   "source": [
    "def optimization_problem(weights):\n",
    "     weights = np.reshape(weights, (276, 276))\n",
    "     results = optimization.simulate(weights)\n",
    "     results = optimization.simulation_results_to_spike_trains(results, 17988) #Has to be the same as the script runtime!\n",
    "     cost_function = optimization.ssd_with_l1(results, experimental_data, lamb)\n",
    "     print(cost_function)\n",
    "     return cost_function"
   ]
  },
  {
   "cell_type": "code",
   "execution_count": 5,
   "metadata": {},
   "outputs": [
    {
     "name": "stdout",
     "output_type": "stream",
     "text": [
      "Weight 27.904201715699887\n",
      "8735.5\n",
      "Weight 27.904202162734723\n",
      "8735.5\n",
      "Weight 27.904201715699887\n",
      "8735.5\n",
      "Weight 27.904201715699887\n",
      "8735.5\n",
      "Weight 27.904201715699887\n",
      "8735.5\n",
      "Weight 27.904201715699887\n",
      "8735.5\n",
      "Weight 27.904201715699887\n",
      "8735.5\n",
      "Weight 27.904201715699887\n",
      "8735.5\n",
      "Weight 27.904201715699887\n",
      "8735.5\n",
      "Weight 27.904201715699887\n",
      "8735.5\n",
      "Weight 27.904201715699887\n",
      "8735.5\n",
      "Weight 27.904201715699887\n",
      "8735.5\n",
      "Weight 27.904201715699887\n",
      "8735.5\n",
      "Weight 27.904201715699887\n",
      "8735.5\n",
      "Weight 27.904201715699887\n",
      "8735.5\n",
      "Weight 27.904201715699887\n",
      "8735.5\n",
      "Weight 27.904201715699887\n",
      "8735.5\n",
      "Weight 27.904201715699887\n",
      "8735.5\n",
      "Weight 27.904201715699887\n",
      "8735.5\n",
      "Weight 27.904201715699887\n",
      "8735.5\n",
      "Weight 27.904201715699887\n",
      "8735.5\n",
      "Weight 27.904201715699887\n",
      "8735.5\n",
      "Weight 27.904201715699887\n",
      "8735.5\n"
     ]
    }
   ],
   "source": [
    "start = time.time()\n",
    "optimizer = basinhopping(optimization_problem, initial_connectivity_matrix.flatten(), stepsize=100, niter=10)\n",
    "print(\"Total time for optimization: \", time.time() - start)\n",
    "print(\"Optimzed weights: \", optimizer.x)\n",
    "print(\"Final loss: \", optimizer.func)"
   ]
  }
 ],
 "metadata": {
  "kernelspec": {
   "display_name": "nest",
   "language": "python",
   "name": "python3"
  },
  "language_info": {
   "codemirror_mode": {
    "name": "ipython",
    "version": 3
   },
   "file_extension": ".py",
   "mimetype": "text/x-python",
   "name": "python",
   "nbconvert_exporter": "python",
   "pygments_lexer": "ipython3",
   "version": "3.11.6"
  }
 },
 "nbformat": 4,
 "nbformat_minor": 2
}
