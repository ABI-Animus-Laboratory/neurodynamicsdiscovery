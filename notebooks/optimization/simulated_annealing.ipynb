{
 "cells": [
  {
   "cell_type": "code",
   "execution_count": 1,
   "metadata": {},
   "outputs": [
    {
     "name": "stdout",
     "output_type": "stream",
     "text": [
      "\n",
      "              -- N E S T --\n",
      "  Copyright (C) 2004 The NEST Initiative\n",
      "\n",
      " Version: 3.6.0\n",
      " Built: Sep 28 2023 11:53:34\n",
      "\n",
      " This program is provided AS IS and comes with\n",
      " NO WARRANTY. See the file LICENSE for details.\n",
      "\n",
      " Problems or suggestions?\n",
      "   Visit https://www.nest-simulator.org\n",
      "\n",
      " Type 'nest.help()' to find out more about NEST.\n",
      "\n"
     ]
    }
   ],
   "source": [
    "import numpy as np\n",
    "from numpy import random\n",
    "from simanneal import Annealer\n",
    "import nest\n",
    "from scripts import optimization"
   ]
  },
  {
   "cell_type": "code",
   "execution_count": 2,
   "metadata": {},
   "outputs": [],
   "source": [
    "nest.rng_seed = 1\n",
    "np.random.seed(1)\n",
    "nest.set_verbosity('M_FATAL')"
   ]
  },
  {
   "cell_type": "code",
   "execution_count": 3,
   "metadata": {},
   "outputs": [],
   "source": [
    "experimental_data = np.load('/hpc/mzhu843/modelling/nest/DATA/processed/experiment3_unfiltered_processed.npy')\n",
    "initial_connectivity_matrix = np.load('/hpc/mzhu843/modelling/nest/DATA/matrices/initial_matrix.npy')\n",
    "lamb = 0.01"
   ]
  },
  {
   "cell_type": "code",
   "execution_count": 4,
   "metadata": {},
   "outputs": [],
   "source": [
    "class OptimizationProblem(Annealer):\n",
    "    def __init__(self, state, data, lamb):\n",
    "        self.experimental_data = data\n",
    "        self.lamb = lamb\n",
    "        self.state = state\n",
    "\n",
    "    def energy(self):\n",
    "        results = optimization.simulate(self.state)[0]\n",
    "        cost_function = optimization.ssd_with_l1(results, experimental_data, lamb, self.state)\n",
    "        return cost_function\n",
    "\n",
    "    def move(self):\n",
    "        for i in range(10000):\n",
    "            x = np.random.randint(0, 276)\n",
    "            y = np.random.randint(0, 276)\n",
    "            if self.state[x][y] != 0:\n",
    "                self.state[x][y] = min(max(self.state[x][y] + np.random.uniform(-0.3, 0.3), 0.01), 2)"
   ]
  },
  {
   "cell_type": "code",
   "execution_count": 5,
   "metadata": {},
   "outputs": [
    {
     "name": "stderr",
     "output_type": "stream",
     "text": [
      " Temperature        Energy    Accept   Improve     Elapsed   Remaining\n",
      " 25000.00000       5717.18                         0:00:00            \r"
     ]
    }
   ],
   "source": [
    "problem = OptimizationProblem(initial_connectivity_matrix, experimental_data, lamb)\n",
    "problem.steps = 2000\n",
    "x, func = problem.anneal()\n",
    "np.save('/hpc/mzhu843/modelling/nest/results/optimization/optimised_weights', x)"
   ]
  }
 ],
 "metadata": {
  "kernelspec": {
   "display_name": "nest",
   "language": "python",
   "name": "python3"
  },
  "language_info": {
   "codemirror_mode": {
    "name": "ipython",
    "version": 3
   },
   "file_extension": ".py",
   "mimetype": "text/x-python",
   "name": "python",
   "nbconvert_exporter": "python",
   "pygments_lexer": "ipython3",
   "version": "3.11.6"
  }
 },
 "nbformat": 4,
 "nbformat_minor": 2
}
