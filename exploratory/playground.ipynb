{
 "cells": [
  {
   "cell_type": "code",
   "execution_count": 1,
   "metadata": {},
   "outputs": [
    {
     "name": "stdout",
     "output_type": "stream",
     "text": [
      "\n",
      "              -- N E S T --\n",
      "  Copyright (C) 2004 The NEST Initiative\n",
      "\n",
      " Version: 3.6.0\n",
      " Built: Sep 28 2023 11:53:34\n",
      "\n",
      " This program is provided AS IS and comes with\n",
      " NO WARRANTY. See the file LICENSE for details.\n",
      "\n",
      " Problems or suggestions?\n",
      "   Visit https://www.nest-simulator.org\n",
      "\n",
      " Type 'nest.help()' to find out more about NEST.\n",
      "\n"
     ]
    }
   ],
   "source": [
    "import numpy as np\n",
    "import nest\n",
    "import matplotlib.pyplot as plt\n",
    "\n",
    "from params import pyr_hcamp_deco2012\n",
    "from params import int_hcamp_deco2012\n",
    "from scripts import visualizations, preprocessing"
   ]
  },
  {
   "cell_type": "code",
   "execution_count": 2,
   "metadata": {},
   "outputs": [
    {
     "name": "stdout",
     "output_type": "stream",
     "text": [
      "\n",
      "Dec 06 14:46:31 correlation_detector [Info]: \n",
      "    Default for delta_tau changed from 0.5 to 5 ms\n",
      "\n",
      "Dec 06 14:46:31 correlomatrix_detector [Info]: \n",
      "    Default for delta_tau changed from 0.5 to 5 ms\n",
      "\n",
      "Dec 06 14:46:31 correlospinmatrix_detector [Info]: \n",
      "    Default for delta_tau changed from 0.1 to 1 ms\n",
      "\n",
      "Dec 06 14:46:31 SimulationManager::set_status [Info]: \n",
      "    Temporal resolution changed from 0.1 to 1 ms.\n"
     ]
    }
   ],
   "source": [
    "#Runtime\n",
    "runtime = 2000\n",
    "\n",
    "#Gamma rate\n",
    "gamma_rate = 40\n",
    "\n",
    "#Theta rate \n",
    "theta_rate = 7\n",
    "\n",
    "nest.SetKernelStatus({\"resolution\": 1})"
   ]
  },
  {
   "cell_type": "code",
   "execution_count": 3,
   "metadata": {},
   "outputs": [
    {
     "name": "stdout",
     "output_type": "stream",
     "text": [
      "\n",
      "Dec 06 14:46:31 NodeManager::prepare_nodes [Info]: \n",
      "    Preparing 16 nodes for simulation.\n",
      "\n",
      "Dec 06 14:46:31 SimulationManager::start_updating_ [Info]: \n",
      "    Number of local nodes: 16\n",
      "    Simulation time (ms): 200\n",
      "    Number of OpenMP threads: 1\n",
      "    Not using MPI\n",
      "\n",
      "Dec 06 14:46:31 SimulationManager::run [Info]: \n",
      "    Simulation finished.\n",
      "[array([  8.,   9.,  21.,  29.,  63.,  97., 101., 134., 145., 157., 164.,\n",
      "       171., 189.]), array([  7.,   9.,  43.,  51.,  79., 126., 154., 174., 178., 198.]), array([ 57.,  90., 175., 183., 189.]), array([185., 187.]), array([  5.,  42.,  72.,  96., 119., 161., 165., 168., 185., 192.]), array([ 73.,  97., 172., 191.]), array([ 16.,  19.,  39.,  56.,  64.,  76.,  86.,  88., 102., 130., 132.,\n",
      "       139., 168., 199.]), array([  9.,  18.,  24.,  42.,  50.,  97., 116., 119.]), array([ 55., 114., 120., 137., 184.]), array([  4.,  46.,  47.,  75., 132., 148.])]\n"
     ]
    },
    {
     "data": {
      "image/png": "[encoded data removed]",
      "text/plain": [
       "<Figure size 640x480 with 1 Axes>"
      ]
     },
     "metadata": {},
     "output_type": "display_data"
    }
   ],
   "source": [
    "pyr = nest.Create('iaf_psc_alpha', n=3, params=pyr_hcamp_deco2012.params)\n",
    "\n",
    "ec_input = nest.Create('poisson_generator', n=10)\n",
    "ec_input.set(rate=gamma_rate)\n",
    "ec_parrot = nest.Create('parrot_neuron', n=1)\n",
    "nest.Connect(ec_input[0], ec_parrot[0])\n",
    "\n",
    "nest.Connect(ec_parrot, pyr, syn_spec={'weight': 35})\n",
    "\n",
    "Vm_recorder = nest.Create('multimeter')\n",
    "Vm_recorder.set(record_from=['V_m'])\n",
    "nest.Connect(Vm_recorder, pyr)\n",
    "spike_recorder = nest.Create('spike_recorder')\n",
    "nest.Connect(ec_input, spike_recorder)\n",
    "\n",
    "nest.Simulate(200)\n",
    "\n",
    "spikes = nest.GetStatus(spike_recorder, \"events\")[0]\n",
    "senders = spikes[\"senders\"]\n",
    "times = spikes[\"times\"]\n",
    "results = [times[senders == neuron_id] for neuron_id in ec_input]\n",
    "visualizations.plot_spikes_from_device(spike_recorder)\n",
    "\n"
   ]
  },
  {
   "cell_type": "code",
   "execution_count": 4,
   "metadata": {},
   "outputs": [],
   "source": [
    "results = preprocessing.simulation_results_to_spike_trains(results, runtime)\n"
   ]
  }
 ],
 "metadata": {
  "kernelspec": {
   "display_name": "nest",
   "language": "python",
   "name": "python3"
  },
  "language_info": {
   "codemirror_mode": {
    "name": "ipython",
    "version": 3
   },
   "file_extension": ".py",
   "mimetype": "text/x-python",
   "name": "python",
   "nbconvert_exporter": "python",
   "pygments_lexer": "ipython3",
   "version": "3.11.6"
  }
 },
 "nbformat": 4,
 "nbformat_minor": 2
}
