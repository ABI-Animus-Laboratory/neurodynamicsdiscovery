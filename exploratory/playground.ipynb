{
 "cells": [
  {
   "cell_type": "code",
   "execution_count": 1,
   "metadata": {},
   "outputs": [
    {
     "name": "stdout",
     "output_type": "stream",
     "text": [
      "\n",
      "              -- N E S T --\n",
      "  Copyright (C) 2004 The NEST Initiative\n",
      "\n",
      " Version: 3.6.0\n",
      " Built: Sep 28 2023 11:53:34\n",
      "\n",
      " This program is provided AS IS and comes with\n",
      " NO WARRANTY. See the file LICENSE for details.\n",
      "\n",
      " Problems or suggestions?\n",
      "   Visit https://www.nest-simulator.org\n",
      "\n",
      " Type 'nest.help()' to find out more about NEST.\n",
      "\n"
     ]
    }
   ],
   "source": [
    "import numpy as np\n",
    "import pandas as pd\n",
    "import matplotlib.pyplot as plt\n",
    "import nest\n",
    "\n",
    "from scripts import visualizations, initializations, optimization, experiments, model"
   ]
  },
  {
   "cell_type": "code",
   "execution_count": 2,
   "metadata": {},
   "outputs": [
    {
     "name": "stdout",
     "output_type": "stream",
     "text": [
      "\n",
      "Feb 12 16:24:06 NodeManager::prepare_nodes [Info]: \n",
      "    Preparing 281 nodes for simulation.\n",
      "\n",
      "Feb 12 16:24:06 SimulationManager::start_updating_ [Info]: \n",
      "    Number of local nodes: 281\n",
      "    Simulation time (ms): 17988\n",
      "    Number of OpenMP threads: 1\n",
      "    Not using MPI\n",
      "\n",
      "Feb 12 16:24:08 SimulationManager::run [Info]: \n",
      "    Simulation finished.\n",
      "17987\n"
     ]
    }
   ],
   "source": [
    "weights = np.load('/hpc/mzhu843/modelling/nest/results/optimization/optimised_weights.npy')\n",
    "\n",
    "model1 = model.NeuronalNetwork(weights)\n",
    "model1.simulate()\n",
    "print(len(model1.voltage_traces[2]))\n",
    "\n",
    "\n",
    "\n"
   ]
  }
 ],
 "metadata": {
  "kernelspec": {
   "display_name": "nest",
   "language": "python",
   "name": "python3"
  },
  "language_info": {
   "codemirror_mode": {
    "name": "ipython",
    "version": 3
   },
   "file_extension": ".py",
   "mimetype": "text/x-python",
   "name": "python",
   "nbconvert_exporter": "python",
   "pygments_lexer": "ipython3",
   "version": "3.11.6"
  }
 },
 "nbformat": 4,
 "nbformat_minor": 2
}
