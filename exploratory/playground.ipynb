{
 "cells": [
  {
   "cell_type": "code",
   "execution_count": 1,
   "metadata": {},
   "outputs": [
    {
     "name": "stdout",
     "output_type": "stream",
     "text": [
      "\n",
      "              -- N E S T --\n",
      "  Copyright (C) 2004 The NEST Initiative\n",
      "\n",
      " Version: 3.6.0\n",
      " Built: Sep 28 2023 11:53:34\n",
      "\n",
      " This program is provided AS IS and comes with\n",
      " NO WARRANTY. See the file LICENSE for details.\n",
      "\n",
      " Problems or suggestions?\n",
      "   Visit https://www.nest-simulator.org\n",
      "\n",
      " Type 'nest.help()' to find out more about NEST.\n",
      "\n"
     ]
    }
   ],
   "source": [
    "import numpy as np\n",
    "import pandas as pd\n",
    "import matplotlib.pyplot as plt\n",
    "import nest\n",
    "\n",
    "from scripts import visualizations, initializations, optimization, experiments, model, neuron_categorization\n"
   ]
  },
  {
   "cell_type": "code",
   "execution_count": 2,
   "metadata": {},
   "outputs": [
    {
     "name": "stdout",
     "output_type": "stream",
     "text": [
      "Number of place cells: 90\n",
      "Number of silent cells: 115\n",
      "Number of interneurons: 1\n"
     ]
    },
    {
     "ename": "IndexError",
     "evalue": "index 131 is out of bounds for axis 0 with size 129",
     "output_type": "error",
     "traceback": [
      "\u001b[0;31m---------------------------------------------------------------------------\u001b[0m",
      "\u001b[0;31mIndexError\u001b[0m                                Traceback (most recent call last)",
      "Cell \u001b[0;32mIn[2], line 14\u001b[0m\n\u001b[1;32m     11\u001b[0m neuron_spike_coords \u001b[38;5;241m=\u001b[39m categorized_neurons[\u001b[38;5;124m'\u001b[39m\u001b[38;5;124mPlace\u001b[39m\u001b[38;5;124m'\u001b[39m][neuron_id]\n\u001b[1;32m     13\u001b[0m categorizer\u001b[38;5;241m.\u001b[39mprint_category_counts()\n\u001b[0;32m---> 14\u001b[0m \u001b[43mcategorizer\u001b[49m\u001b[38;5;241;43m.\u001b[39;49m\u001b[43msave_place_fields_box\u001b[49m\u001b[43m(\u001b[49m\u001b[43m)\u001b[49m\n",
      "File \u001b[0;32m/hpc/mzhu843/modelling/nest/scripts/neuron_categorization.py:199\u001b[0m, in \u001b[0;36mNeuronCategorizer.save_place_fields_box\u001b[0;34m(self)\u001b[0m\n\u001b[1;32m    197\u001b[0m \u001b[38;5;28;01mfor\u001b[39;00m coord \u001b[38;5;129;01min\u001b[39;00m neuron_spike_coords:\n\u001b[1;32m    198\u001b[0m     x, y \u001b[38;5;241m=\u001b[39m \u001b[38;5;28mround\u001b[39m((coord[\u001b[38;5;241m0\u001b[39m] \u001b[38;5;241m-\u001b[39m \u001b[38;5;28mself\u001b[39m\u001b[38;5;241m.\u001b[39mofield_x_min) \u001b[38;5;241m/\u001b[39m\u001b[38;5;241m/\u001b[39m \u001b[38;5;241m2\u001b[39m), \u001b[38;5;28mround\u001b[39m((coord[\u001b[38;5;241m1\u001b[39m] \u001b[38;5;241m-\u001b[39m \u001b[38;5;28mself\u001b[39m\u001b[38;5;241m.\u001b[39mofield_y_min) \u001b[38;5;241m/\u001b[39m\u001b[38;5;241m/\u001b[39m \u001b[38;5;241m2\u001b[39m)\n\u001b[0;32m--> 199\u001b[0m     \u001b[43mheat_map\u001b[49m\u001b[43m[\u001b[49m\u001b[43mx\u001b[49m\u001b[43m]\u001b[49m\u001b[43m[\u001b[49m\u001b[43my\u001b[49m\u001b[43m]\u001b[49m \u001b[38;5;241m+\u001b[39m\u001b[38;5;241m=\u001b[39m \u001b[38;5;241m1\u001b[39m\n\u001b[1;32m    201\u001b[0m fig, ax \u001b[38;5;241m=\u001b[39m plt\u001b[38;5;241m.\u001b[39msubplots()\n\u001b[1;32m    202\u001b[0m cax \u001b[38;5;241m=\u001b[39m ax\u001b[38;5;241m.\u001b[39mimshow(heat_map, \u001b[38;5;124m'\u001b[39m\u001b[38;5;124mhot\u001b[39m\u001b[38;5;124m'\u001b[39m, vmin\u001b[38;5;241m=\u001b[39m\u001b[38;5;241m0\u001b[39m, vmax\u001b[38;5;241m=\u001b[39m\u001b[38;5;241m5\u001b[39m)\n",
      "\u001b[0;31mIndexError\u001b[0m: index 131 is out of bounds for axis 0 with size 129"
     ]
    }
   ],
   "source": [
    "df = pd.read_csv('/hpc/mzhu843/modelling/nest/DATA/raw/ezytrack/behaviour_LocationOutput.csv')\n",
    "spikes = np.load('/hpc/mzhu843/modelling/nest/DATA/processed/spikes/S_3_p.npy')\n",
    "\n",
    "categorizer = neuron_categorization.NeuronCategorizer(spikes, df)\n",
    "\n",
    "categorizer.run_categorization()\n",
    "\n",
    "categorized_neurons = categorizer.get_categorized_neurons()\n",
    "\n",
    "neuron_id = '1'\n",
    "neuron_spike_coords = categorized_neurons['Place'][neuron_id]\n",
    "\n",
    "categorizer.print_category_counts()\n",
    "categorizer.save_place_fields_box()\n",
    "\n",
    "\n",
    "\n"
   ]
  }
 ],
 "metadata": {
  "kernelspec": {
   "display_name": "nest",
   "language": "python",
   "name": "python3"
  },
  "language_info": {
   "codemirror_mode": {
    "name": "ipython",
    "version": 3
   },
   "file_extension": ".py",
   "mimetype": "text/x-python",
   "name": "python",
   "nbconvert_exporter": "python",
   "pygments_lexer": "ipython3",
   "version": "3.11.6"
  }
 },
 "nbformat": 4,
 "nbformat_minor": 2
}
