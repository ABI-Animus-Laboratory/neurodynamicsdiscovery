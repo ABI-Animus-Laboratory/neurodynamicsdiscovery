{
 "cells": [
  {
   "cell_type": "code",
   "execution_count": 1,
   "metadata": {},
   "outputs": [
    {
     "name": "stdout",
     "output_type": "stream",
     "text": [
      "\n",
      "              -- N E S T --\n",
      "  Copyright (C) 2004 The NEST Initiative\n",
      "\n",
      " Version: 3.6.0\n",
      " Built: Sep 28 2023 11:53:34\n",
      "\n",
      " This program is provided AS IS and comes with\n",
      " NO WARRANTY. See the file LICENSE for details.\n",
      "\n",
      " Problems or suggestions?\n",
      "   Visit https://www.nest-simulator.org\n",
      "\n",
      " Type 'nest.help()' to find out more about NEST.\n",
      "\n"
     ]
    }
   ],
   "source": [
    "import matplotlib.pyplot as plt\n",
    "import numpy as np\n",
    "from numpy import random\n",
    "import pandas as pd\n",
    "from simanneal import Annealer\n",
    "import nest\n",
    "from scripts import optimization"
   ]
  },
  {
   "cell_type": "code",
   "execution_count": 2,
   "metadata": {},
   "outputs": [],
   "source": [
    "nest.rng_seed = 1\n",
    "np.random.seed(1)\n",
    "nest.set_verbosity('M_FATAL')"
   ]
  },
  {
   "cell_type": "code",
   "execution_count": 3,
   "metadata": {},
   "outputs": [],
   "source": [
    "experimental_data = np.load('/hpc/mzhu843/modelling/nest/DATA/processed/experiment3_unfiltered_processed.npy')\n",
    "initial_connectivity_matrix = np.load('/hpc/mzhu843/modelling/nest/DATA/matrices/matrix.npy')\n",
    "lamb = 0.01"
   ]
  },
  {
   "cell_type": "code",
   "execution_count": 4,
   "metadata": {},
   "outputs": [],
   "source": [
    "class OptimizationProblem(Annealer):\n",
    "    def __init__(self, state, data, lamb):\n",
    "        self.experimental_data = data\n",
    "        self.lamb = lamb\n",
    "        super(OptimizationProblem, self).__init__(state)\n",
    "\n",
    "    def energy(self):\n",
    "        results = optimization.simulate(self.state)\n",
    "        results = optimization.simulation_results_to_spike_trains(results, 17988) #Has to be the same as the script runtime!\n",
    "        cost_function = optimization.ssd_with_l1(results, experimental_data, lamb)\n",
    "        return cost_function\n",
    "\n",
    "    def move(self):\n",
    "        for i in range(1000):\n",
    "            x = np.random.randint(0, 276)\n",
    "            y = np.random.randint(0, 276)\n",
    "            if self.state[x][y] != 0:\n",
    "                self.state[x][y] = max(self.state[x][y] + np.random.uniform(-0.1, 0.1), 0.01)\n",
    "\n"
   ]
  },
  {
   "cell_type": "code",
   "execution_count": 5,
   "metadata": {},
   "outputs": [
    {
     "name": "stderr",
     "output_type": "stream",
     "text": [
      " Temperature        Energy    Accept   Improve     Elapsed   Remaining\n",
      "     2.50000      12082.00     0.00%     0.00%     0:00:44     0:00:00"
     ]
    }
   ],
   "source": [
    "problem = OptimizationProblem(initial_connectivity_matrix, experimental_data, lamb)\n",
    "problem.steps = 100\n",
    "x, func = problem.anneal()\n",
    "np.save('/hpc/mzhu843/modelling/nest/results/optimization/optimised_weights', x)"
   ]
  }
 ],
 "metadata": {
  "kernelspec": {
   "display_name": "nest",
   "language": "python",
   "name": "python3"
  },
  "language_info": {
   "codemirror_mode": {
    "name": "ipython",
    "version": 3
   },
   "file_extension": ".py",
   "mimetype": "text/x-python",
   "name": "python",
   "nbconvert_exporter": "python",
   "pygments_lexer": "ipython3",
   "version": "3.11.6"
  }
 },
 "nbformat": 4,
 "nbformat_minor": 2
}
